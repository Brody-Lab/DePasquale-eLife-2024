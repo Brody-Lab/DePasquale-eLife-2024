{
 "cells": [
  {
   "cell_type": "code",
   "execution_count": 1,
   "metadata": {},
   "outputs": [],
   "source": [
    "using Distributed\n",
    "addprocs(8);"
   ]
  },
  {
   "cell_type": "code",
   "execution_count": 2,
   "metadata": {},
   "outputs": [],
   "source": [
    "@everywhere using PulseInputDDM, MAT\n",
    "import Statistics: mean"
   ]
  },
  {
   "cell_type": "code",
   "execution_count": 3,
   "metadata": {},
   "outputs": [],
   "source": [
    "ratnames = [\"B068\",\"T034\",\"T036\",\"T063\",\"T030\", \"T035\",\"T011\",\"B053\", \"T080\",\"T103\",\"E021\"];\n",
    "dt, n, cross = 1e-2, 53, false\n",
    "data_path = joinpath(abspath(joinpath(pwd(), \"..\")), \"data/by_session\");"
   ]
  },
  {
   "cell_type": "code",
   "execution_count": 4,
   "metadata": {},
   "outputs": [],
   "source": [
    "region, delay = \"FOF\", 6\n",
    "ratnum = 1:5\n",
    "rat = ratnames[ratnum]\n",
    "sessions = vcat(map(rat-> filter(x->occursin(rat,x), readdir(data_path)), rat)...);\n",
    "data_FOF, = load_neural_data(joinpath.(data_path, sessions), pcut=0.01, pad=20, delay=delay, dt=dt, \n",
    "    filtSD=5, do_RBF=true);\n",
    "ntrials_FOF = sum(length.(data_FOF));"
   ]
  },
  {
   "cell_type": "code",
   "execution_count": 5,
   "metadata": {},
   "outputs": [],
   "source": [
    "region, delay = \"ADS\", 6\n",
    "ratnum = 9:11\n",
    "rat = ratnames[ratnum]\n",
    "sessions = vcat(map(rat-> filter(x->occursin(rat,x), readdir(data_path)), rat)...);\n",
    "data_STR, = load_neural_data(joinpath.(data_path, sessions), pcut=0.01, pad=20, delay=delay, dt=dt, \n",
    "    filtSD=5, do_RBF=true);\n",
    "ntrials_STR = sum(length.(data_STR));"
   ]
  },
  {
   "cell_type": "code",
   "execution_count": 6,
   "metadata": {},
   "outputs": [],
   "source": [
    "joint_model_path = joinpath(abspath(joinpath(pwd(), \"..\")), \"models/joint-folds\");"
   ]
  },
  {
   "cell_type": "code",
   "execution_count": 7,
   "metadata": {},
   "outputs": [],
   "source": [
    "import Base.Iterators: partition"
   ]
  },
  {
   "cell_type": "code",
   "execution_count": 8,
   "metadata": {},
   "outputs": [],
   "source": [
    "LL_joint_FOF_folds = Vector{Float64}(undef,5)\n",
    "joint_model_folds_FOF = Vector(undef,5)\n",
    "region = \"FOF\"\n",
    "ntrials = length.(data_FOF);\n",
    "\n",
    "for fold in 1:5\n",
    "    \n",
    "    train = map(ntrials -> vcat(collect.(partition(1:ntrials, ceil(Int, ntrials/5)))[setdiff(1:5, fold)]...), ntrials)\n",
    "    test = map((ntrials, train)-> setdiff(1:ntrials, train), ntrials, train)\n",
    "    test_data_FOF = map((data, train)-> data[train], data_FOF, test)\n",
    "\n",
    "    file = joinpath(joint_model_path, region*\"_\"*string(fold)*\".mat\")\n",
    "    xfolds = read(matopen(file), \"ML_params\");\n",
    "    f = all_Softplus(data_FOF)  \n",
    "\n",
    "    joint_model_folds_FOF[fold] = neural_choiceDDM(θneural_choice(xfolds, f), n, cross);\n",
    "\n",
    "    LL_joint_FOF_folds[fold] = (PulseInputDDM.joint_loglikelihood(joint_model_folds_FOF[fold], test_data_FOF))/(log(2) * \n",
    "        length(getfield.(vcat(test_data_FOF...), :choice)));\n",
    "    \n",
    "end"
   ]
  },
  {
   "cell_type": "code",
   "execution_count": 9,
   "metadata": {},
   "outputs": [],
   "source": [
    "LL_joint_STR_folds = Vector{Float64}(undef,5)\n",
    "joint_model_folds_STR = Vector(undef,5)\n",
    "region = \"ADS\"\n",
    "ntrials = length.(data_STR);\n",
    "\n",
    "for fold in 1:5\n",
    "    \n",
    "    train = map(ntrials -> vcat(collect.(partition(1:ntrials, ceil(Int, ntrials/5)))[setdiff(1:5, fold)]...), ntrials)\n",
    "    test = map((ntrials, train)-> setdiff(1:ntrials, train), ntrials, train)\n",
    "    test_data_STR = map((data, train)-> data[train], data_STR, test)\n",
    "\n",
    "    file = joinpath(joint_model_path, region*\"_\"*string(fold)*\".mat\")\n",
    "    xfolds = read(matopen(file), \"ML_params\");\n",
    "    f = all_Softplus(data_STR)  \n",
    "\n",
    "    joint_model_folds_STR[fold] = neural_choiceDDM(θneural_choice(xfolds, f), n, cross);\n",
    "\n",
    "    LL_joint_STR_folds[fold] = (PulseInputDDM.joint_loglikelihood(joint_model_folds_STR[fold], test_data_STR))/(log(2) * \n",
    "        length(getfield.(vcat(test_data_STR...), :choice)));\n",
    "    \n",
    "end"
   ]
  },
  {
   "cell_type": "markdown",
   "metadata": {},
   "source": [
    "## Independent model"
   ]
  },
  {
   "cell_type": "code",
   "execution_count": 10,
   "metadata": {},
   "outputs": [],
   "source": [
    "independent_model_path = joinpath(abspath(joinpath(pwd(), \"..\")), \"models/independent-folds\");"
   ]
  },
  {
   "cell_type": "code",
   "execution_count": 11,
   "metadata": {},
   "outputs": [],
   "source": [
    "import DePasqualeElife2024: sep_joint_loglikelihood"
   ]
  },
  {
   "cell_type": "code",
   "execution_count": 12,
   "metadata": {},
   "outputs": [],
   "source": [
    "LL_joint_FOF_folds_sep = Vector{Float64}(undef,5)\n",
    "joint_model_folds_FOF_sep = Vector(undef,5)\n",
    "region = \"FOF\"\n",
    "ntrials = length.(data_FOF);\n",
    "\n",
    "for fold in 1:5\n",
    "    \n",
    "    train = map(ntrials -> vcat(collect.(partition(1:ntrials, ceil(Int, ntrials/5)))[setdiff(1:5, fold)]...), ntrials)\n",
    "    test = map((ntrials, train)-> setdiff(1:ntrials, train), ntrials, train)\n",
    "    test_data_FOF = map((data, train)-> data[train], data_FOF, test)\n",
    "\n",
    "    file = joinpath(independent_model_path, region*\"_\"*string(fold)*\".mat\")\n",
    "    xfolds = read(matopen(file), \"ML_params\");\n",
    "    f = all_Softplus(data_FOF)  \n",
    "\n",
    "    joint_model_folds_FOF_sep[fold] = neural_choiceDDM(θneural_choice(xfolds, f), n, cross);\n",
    "\n",
    "    LL_joint_FOF_folds_sep[fold] = (sep_joint_loglikelihood(joint_model_folds_FOF_sep[fold], test_data_FOF))/(log(2) * \n",
    "        length(vcat(test...)));\n",
    "    \n",
    "end"
   ]
  },
  {
   "cell_type": "code",
   "execution_count": 13,
   "metadata": {},
   "outputs": [],
   "source": [
    "LL_joint_STR_folds_sep = Vector{Float64}(undef,5)\n",
    "joint_model_folds_STR_sep = Vector(undef,5)\n",
    "region = \"ADS\"\n",
    "ntrials = length.(data_STR);\n",
    "\n",
    "for fold in 1:5\n",
    "    \n",
    "    train = map(ntrials -> vcat(collect.(partition(1:ntrials, ceil(Int, ntrials/5)))[setdiff(1:5, fold)]...), ntrials)\n",
    "    test = map((ntrials, train)-> setdiff(1:ntrials, train), ntrials, train)\n",
    "    test_data_STR = map((data, train)-> data[train], data_STR, test)\n",
    "\n",
    "    file = joinpath(independent_model_path, region*\"_\"*string(fold)*\".mat\")\n",
    "    xfolds = read(matopen(file), \"ML_params\");\n",
    "    f = all_Softplus(data_STR)  \n",
    "\n",
    "    joint_model_folds_STR_sep[fold] = neural_choiceDDM(θneural_choice(xfolds, f), n, cross);\n",
    "\n",
    "    LL_joint_STR_folds_sep[fold] = (sep_joint_loglikelihood(joint_model_folds_STR_sep[fold], test_data_STR))/(log(2) * \n",
    "        length(vcat(test...)));\n",
    "    \n",
    "end"
   ]
  },
  {
   "cell_type": "code",
   "execution_count": 14,
   "metadata": {},
   "outputs": [],
   "source": [
    "using PyPlot"
   ]
  },
  {
   "cell_type": "code",
   "execution_count": 15,
   "metadata": {},
   "outputs": [
    {
     "data": {
      "image/png": "[encoded data removed]",
      "text/plain": [
       "Figure(PyObject <Figure size 300x375 with 1 Axes>)"
      ]
     },
     "metadata": {},
     "output_type": "display_data"
    }
   ],
   "source": [
    "figure(figsize=(1., 1.25), dpi=300, frameon=true)\n",
    "\n",
    "mycolors = [\"red\", \"#A01892\"]\n",
    "rc(\"xtick\", labelsize=6)\n",
    "rc(\"ytick\", labelsize=6)\n",
    "\n",
    "bar(1, mean(LL_joint_FOF_folds_sep - LL_joint_FOF_folds), color=mycolors[1]);\n",
    "bar(2, mean(LL_joint_STR_folds_sep - LL_joint_STR_folds), color=mycolors[2]);\n",
    "xticks([1, 2], [\"FOF\", \"ADS\"], rotation=0, fontsize=6)\n",
    "\n",
    "ax = gca()\n",
    "ax.spines[\"right\"].set_visible(false)\n",
    "ax.spines[\"top\"].set_visible(false)\n",
    "ax.spines[\"bottom\"].set_linewidth(0.5)\n",
    "ax.spines[\"left\"].set_linewidth(0.5)\n",
    "ax.tick_params(width=0.5, length=2)\n",
    "ax.set_yticks(range(-0.1, stop=0.4, length=6))\n",
    "ax.set_yticks(range(-0.1, stop=0.45, length=12), minor=true)\n",
    "ax.tick_params(which=\"minor\", width=0.5, length=1.5)\n",
    "ax.set_ylim(-0.1, 0.45)\n",
    "\n",
    "tight_layout() \n",
    "display(gcf())\n",
    "close(gcf())\n",
    "#PyPlot.savefig(joinpath(abspath(joinpath(pwd(), \"..\")), \"figs/\")*\"Fig4B.pdf\")"
   ]
  }
 ],
 "metadata": {
  "kernelspec": {
   "display_name": "Julia 1.10.4",
   "language": "julia",
   "name": "julia-1.10"
  },
  "language_info": {
   "file_extension": ".jl",
   "mimetype": "application/julia",
   "name": "julia",
   "version": "1.10.4"
  }
 },
 "nbformat": 4,
 "nbformat_minor": 2
}
