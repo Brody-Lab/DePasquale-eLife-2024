{
 "cells": [
  {
   "cell_type": "code",
   "execution_count": 1,
   "metadata": {},
   "outputs": [],
   "source": [
    "using Distributed\n",
    "addprocs(8);"
   ]
  },
  {
   "cell_type": "code",
   "execution_count": 2,
   "metadata": {},
   "outputs": [],
   "source": [
    "@everywhere using PulseInputDDM, MAT\n",
    "using Flatten"
   ]
  },
  {
   "cell_type": "code",
   "execution_count": 3,
   "metadata": {},
   "outputs": [],
   "source": [
    "x_joint = Vector(undef, 3);\n",
    "x_choice = Vector(undef, 3);"
   ]
  },
  {
   "cell_type": "code",
   "execution_count": 4,
   "metadata": {},
   "outputs": [],
   "source": [
    "ratnames = [\"B068\",\"T034\",\"T036\",\"T063\",\"T030\", \"T035\",\"T011\",\"B053\", \"T080\",\"T103\",\"E021\"];\n",
    "dt, n, cross = 1e-2, 53, false\n",
    "data_path = joinpath(abspath(joinpath(pwd(), \"..\")), \"data/by_session_w_cpoke\")\n",
    "joint_model_path = joinpath(abspath(joinpath(pwd(), \"..\")), \"models/joint\");\n",
    "choice_model_path = joinpath(abspath(joinpath(pwd(), \"..\")), \"models/choice\");"
   ]
  },
  {
   "cell_type": "markdown",
   "metadata": {},
   "source": [
    "## PPC"
   ]
  },
  {
   "cell_type": "code",
   "execution_count": 5,
   "metadata": {},
   "outputs": [],
   "source": [
    "region, delay = \"PPC\", 12\n",
    "ratnum = 6:8\n",
    "rat = ratnames[ratnum]\n",
    "sessions = vcat(map(rat-> filter(x->occursin(rat,x), readdir(data_path)), rat)...);\n",
    "data_PPC, μ_rnt, μ_t, cpoke_out_PPC = load_neural_data(joinpath.(data_path, sessions), pcut=0.01, pad=20, \n",
    "    delay=delay, dt=dt, filtSD=5, do_RBF=true);"
   ]
  },
  {
   "cell_type": "code",
   "execution_count": 6,
   "metadata": {},
   "outputs": [
    {
     "data": {
      "text/plain": [
       "neural_choiceDDM{θneural_choice{θz{Float64}, Float64, Vector{Vector{Softplus{Float64}}}}}\n",
       "  θ: θneural_choice{θz{Float64}, Float64, Vector{Vector{Softplus{Float64}}}}\n",
       "  n: Int64 53\n",
       "  cross: Bool false\n"
      ]
     },
     "metadata": {},
     "output_type": "display_data"
    }
   ],
   "source": [
    "file = joinpath(joint_model_path, \"Fig2-PPC.mat\")\n",
    "f = string.(read(matopen(file), \"f\"))\n",
    "ncells = collect(read(matopen(file), \"ncells\"))\n",
    "nparams = read(matopen(file), \"nparams\")\n",
    "xf = read(matopen(file), \"ML_params\")\n",
    "borg = vcat(0,cumsum(ncells, dims=1))\n",
    "nparams = [nparams[i] for i in [borg[i-1]+1:borg[i] for i in 2:length(borg)]]\n",
    "f = [f[i] for i in [borg[i-1]+1:borg[i] for i in 2:length(borg)]];  \n",
    "x_joint[2] = xf;\n",
    "joint_model_PPC = neural_choiceDDM(θneural_choice(xf, f), n, cross)"
   ]
  },
  {
   "cell_type": "code",
   "execution_count": 7,
   "metadata": {},
   "outputs": [],
   "source": [
    "file = joinpath(choice_model_path, region*\".mat\")\n",
    "x_choice[2] = read(matopen(file), \"ML_params\");"
   ]
  },
  {
   "cell_type": "code",
   "execution_count": 8,
   "metadata": {},
   "outputs": [],
   "source": [
    "choice_inputs = map(x-> PulseInputDDM.choiceinputs(clicks=x.clicks, binned_clicks=x.binned_clicks, \n",
    "    dt=dt, centered=false), getfield.(vcat(data_PPC...), :input_data));\n",
    "choice_data_PPC = PulseInputDDM.choicedata.(choice_inputs, getfield.(vcat(data_PPC...), :choice));\n",
    "choice_model_PPC = choiceDDM(θ = Flatten.reconstruct(θchoice(), x_choice[2]), n=n, cross=cross);"
   ]
  },
  {
   "cell_type": "markdown",
   "metadata": {},
   "source": [
    "## ADS"
   ]
  },
  {
   "cell_type": "code",
   "execution_count": 9,
   "metadata": {},
   "outputs": [],
   "source": [
    "region, delay = \"ADS\", 6\n",
    "ratnum = 9:11\n",
    "rat = ratnames[ratnum]\n",
    "sessions = vcat(map(rat-> filter(x->occursin(rat,x), readdir(data_path)), rat)...);\n",
    "data_STR,μ_rnt, μ_t, cpoke_out_STR = load_neural_data(joinpath.(data_path, sessions), pcut=0.01, pad=20, delay=delay, dt=dt, filtSD=5,\n",
    "    do_RBF=true);"
   ]
  },
  {
   "cell_type": "code",
   "execution_count": 10,
   "metadata": {},
   "outputs": [
    {
     "data": {
      "text/plain": [
       "neural_choiceDDM{θneural_choice{θz{Float64}, Float64, Vector{Vector{Softplus{Float64}}}}}\n",
       "  θ: θneural_choice{θz{Float64}, Float64, Vector{Vector{Softplus{Float64}}}}\n",
       "  n: Int64 53\n",
       "  cross: Bool false\n"
      ]
     },
     "metadata": {},
     "output_type": "display_data"
    }
   ],
   "source": [
    "file = joinpath(joint_model_path, \"Fig2-ADS.mat\")\n",
    "f = string.(read(matopen(file), \"f\"))\n",
    "ncells = collect(read(matopen(file), \"ncells\"))\n",
    "nparams = read(matopen(file), \"nparams\")\n",
    "xf = read(matopen(file), \"ML_params\")\n",
    "borg = vcat(0,cumsum(ncells, dims=1))\n",
    "nparams = [nparams[i] for i in [borg[i-1]+1:borg[i] for i in 2:length(borg)]]\n",
    "f = [f[i] for i in [borg[i-1]+1:borg[i] for i in 2:length(borg)]];   \n",
    "x_joint[3] = xf;\n",
    "joint_model_STR = neural_choiceDDM(θneural_choice(xf, f), n, cross)"
   ]
  },
  {
   "cell_type": "code",
   "execution_count": 11,
   "metadata": {},
   "outputs": [],
   "source": [
    "file = joinpath(choice_model_path, region*\".mat\")\n",
    "x_choice[3] = read(matopen(file), \"ML_params\");"
   ]
  },
  {
   "cell_type": "code",
   "execution_count": 12,
   "metadata": {},
   "outputs": [],
   "source": [
    "choice_inputs = map(x-> PulseInputDDM.choiceinputs(clicks=x.clicks, binned_clicks=x.binned_clicks, \n",
    "    dt=dt, centered=false), getfield.(vcat(data_STR...), :input_data));\n",
    "choice_data_STR = PulseInputDDM.choicedata.(choice_inputs, getfield.(vcat(data_STR...), :choice));\n",
    "choice_model_STR = choiceDDM(θ = Flatten.reconstruct(θchoice(), x_choice[3]), n=n, cross=cross);"
   ]
  },
  {
   "cell_type": "markdown",
   "metadata": {},
   "source": [
    "## FOF"
   ]
  },
  {
   "cell_type": "code",
   "execution_count": 13,
   "metadata": {},
   "outputs": [],
   "source": [
    "region, delay = \"FOF\", 6\n",
    "ratnum = 1:5\n",
    "rat = ratnames[ratnum]\n",
    "sessions = vcat(map(rat-> filter(x->occursin(rat,x), readdir(data_path)), rat)...);\n",
    "data_FOF,μ_rnt, μ_t, cpoke_out_FOF = load_neural_data(joinpath.(data_path, sessions), pcut=0.01, pad=20, delay=delay, dt=dt, filtSD=5,\n",
    "    do_RBF=true);"
   ]
  },
  {
   "cell_type": "code",
   "execution_count": 14,
   "metadata": {},
   "outputs": [
    {
     "data": {
      "text/plain": [
       "neural_choiceDDM{θneural_choice{θz{Float64}, Float64, Vector{Vector{Softplus{Float64}}}}}\n",
       "  θ: θneural_choice{θz{Float64}, Float64, Vector{Vector{Softplus{Float64}}}}\n",
       "  n: Int64 53\n",
       "  cross: Bool false\n"
      ]
     },
     "metadata": {},
     "output_type": "display_data"
    }
   ],
   "source": [
    "file = joinpath(joint_model_path, \"Fig2-FOF.mat\")\n",
    "f = string.(read(matopen(file), \"f\"))\n",
    "ncells = collect(read(matopen(file), \"ncells\"))\n",
    "nparams = read(matopen(file), \"nparams\")\n",
    "xf = read(matopen(file), \"ML_params\")\n",
    "borg = vcat(0,cumsum(ncells, dims=1))\n",
    "nparams = [nparams[i] for i in [borg[i-1]+1:borg[i] for i in 2:length(borg)]]\n",
    "f = [f[i] for i in [borg[i-1]+1:borg[i] for i in 2:length(borg)]];   \n",
    "x_joint[1] = xf;\n",
    "joint_model_FOF = neural_choiceDDM(θneural_choice(xf, f), n, cross)"
   ]
  },
  {
   "cell_type": "code",
   "execution_count": 15,
   "metadata": {},
   "outputs": [],
   "source": [
    "file = joinpath(choice_model_path, region*\".mat\")\n",
    "x_choice[1] = read(matopen(file), \"ML_params\");"
   ]
  },
  {
   "cell_type": "code",
   "execution_count": 16,
   "metadata": {},
   "outputs": [],
   "source": [
    "choice_inputs = map(x-> PulseInputDDM.choiceinputs(clicks=x.clicks, binned_clicks=x.binned_clicks, \n",
    "    dt=dt, centered=false), getfield.(vcat(data_FOF...), :input_data));\n",
    "choice_data_FOF = PulseInputDDM.choicedata.(choice_inputs, getfield.(vcat(data_FOF...), :choice));\n",
    "choice_model_FOF = choiceDDM(θ = Flatten.reconstruct(θchoice(), x_choice[1]), n=n, cross=cross);"
   ]
  },
  {
   "cell_type": "markdown",
   "metadata": {},
   "source": [
    "### Compute difference in L and R clicks"
   ]
  },
  {
   "cell_type": "code",
   "execution_count": 17,
   "metadata": {},
   "outputs": [],
   "source": [
    "output = map(x-> binLR(x.click_data.binned_clicks, x.click_data.clicks, x.click_data.dt), choice_data_FOF);\n",
    "L,R = getindex.(output,1), getindex.(output,2);\n",
    "ΔLR_FOF = cumsum.(-L .+ R);"
   ]
  },
  {
   "cell_type": "code",
   "execution_count": 18,
   "metadata": {},
   "outputs": [],
   "source": [
    "output = map(x-> binLR(x.click_data.binned_clicks, x.click_data.clicks, x.click_data.dt), choice_data_PPC);\n",
    "L,R = getindex.(output,1), getindex.(output,2);\n",
    "ΔLR_PPC = cumsum.(-L .+ R);"
   ]
  },
  {
   "cell_type": "code",
   "execution_count": 19,
   "metadata": {},
   "outputs": [],
   "source": [
    "output = map(x-> binLR(x.click_data.binned_clicks, x.click_data.clicks, x.click_data.dt), choice_data_STR);\n",
    "L,R = getindex.(output,1), getindex.(output,2);\n",
    "ΔLR_STR = cumsum.(-L .+ R);"
   ]
  },
  {
   "cell_type": "markdown",
   "metadata": {},
   "source": [
    "## Forward pass and posteriors"
   ]
  },
  {
   "cell_type": "code",
   "execution_count": 20,
   "metadata": {},
   "outputs": [],
   "source": [
    "import PulseInputDDM: forward, posterior"
   ]
  },
  {
   "cell_type": "code",
   "execution_count": 21,
   "metadata": {},
   "outputs": [],
   "source": [
    "output = forward(choice_model_FOF, choice_data_FOF);\n",
    "choice_a_FOF = map(x-> x[1], output);\n",
    "xc_choice_FOF = output[1][2];"
   ]
  },
  {
   "cell_type": "code",
   "execution_count": 22,
   "metadata": {},
   "outputs": [],
   "source": [
    "output = forward(choice_model_PPC, choice_data_PPC);\n",
    "choice_a_PPC = map(x-> x[1], output);\n",
    "xc_choice_PPC = output[1][2];"
   ]
  },
  {
   "cell_type": "code",
   "execution_count": 23,
   "metadata": {},
   "outputs": [],
   "source": [
    "output = forward(choice_model_STR, choice_data_STR);\n",
    "choice_a_STR = map(x-> x[1], output);\n",
    "xc_choice_STR = output[1][2];"
   ]
  },
  {
   "cell_type": "code",
   "execution_count": 24,
   "metadata": {},
   "outputs": [],
   "source": [
    "neural_model_FOF = neuralDDM(θ=θneural(θz=joint_model_FOF.θ.θz, θy=joint_model_FOF.θ.θy, f=joint_model_FOF.θ.f),\n",
    "    n=joint_model_FOF.n, cross=joint_model_FOF.cross);"
   ]
  },
  {
   "cell_type": "code",
   "execution_count": 25,
   "metadata": {},
   "outputs": [],
   "source": [
    "neural_model_PPC = neuralDDM(θ=θneural(θz=joint_model_PPC.θ.θz, θy=joint_model_PPC.θ.θy, f=joint_model_PPC.θ.f),\n",
    "    n=joint_model_PPC.n, cross=joint_model_PPC.cross);"
   ]
  },
  {
   "cell_type": "code",
   "execution_count": 26,
   "metadata": {},
   "outputs": [],
   "source": [
    "neural_model_STR = neuralDDM(θ=θneural(θz=joint_model_STR.θ.θz, θy=joint_model_STR.θ.θy, f=joint_model_STR.θ.f),\n",
    "    n=joint_model_STR.n, cross=joint_model_STR.cross);"
   ]
  },
  {
   "cell_type": "code",
   "execution_count": 27,
   "metadata": {},
   "outputs": [],
   "source": [
    "output = posterior(neural_model_FOF, data_FOF);\n",
    "output = vcat(output...);\n",
    "neural_post_FOF = map(x-> x[1] .* x[2], output);\n",
    "xc_neural_FOF = output[1][3];"
   ]
  },
  {
   "cell_type": "code",
   "execution_count": 28,
   "metadata": {},
   "outputs": [],
   "source": [
    "output = posterior(neural_model_PPC, data_PPC);\n",
    "output = vcat(output...);\n",
    "neural_post_PPC = map(x-> x[1] .* x[2], output);\n",
    "xc_neural_PPC = output[1][3];"
   ]
  },
  {
   "cell_type": "code",
   "execution_count": 29,
   "metadata": {},
   "outputs": [],
   "source": [
    "output = posterior(neural_model_STR, data_STR);\n",
    "output = vcat(output...);\n",
    "neural_post_STR = map(x-> x[1] .* x[2], output);\n",
    "xc_neural_STR = output[1][3];"
   ]
  },
  {
   "cell_type": "markdown",
   "metadata": {},
   "source": [
    "#### Expected values"
   ]
  },
  {
   "cell_type": "code",
   "execution_count": 30,
   "metadata": {},
   "outputs": [],
   "source": [
    "exp_PPC_neural = map(x-> x[:,33:end-8]' * xc_neural_PPC, neural_post_PPC);\n",
    "exp_FOF_neural = map(x-> x[:,27:end-14]' * xc_neural_FOF, neural_post_FOF);\n",
    "exp_STR_neural = map(x-> x[:,27:end-14]' * xc_neural_STR, neural_post_STR);"
   ]
  },
  {
   "cell_type": "code",
   "execution_count": 31,
   "metadata": {},
   "outputs": [],
   "source": [
    "exp_PPC_choice_for = map(x-> x' * xc_choice_PPC, choice_a_PPC);\n",
    "exp_FOF_choice_for = map(x-> x' * xc_choice_FOF, choice_a_FOF);\n",
    "exp_STR_choice_for = map(x-> x' * xc_choice_STR, choice_a_STR);"
   ]
  },
  {
   "cell_type": "code",
   "execution_count": 32,
   "metadata": {},
   "outputs": [],
   "source": [
    "import Statistics: median"
   ]
  },
  {
   "cell_type": "markdown",
   "metadata": {},
   "source": [
    "## Find change of mind"
   ]
  },
  {
   "cell_type": "code",
   "execution_count": 33,
   "metadata": {},
   "outputs": [],
   "source": [
    "# compute the diff of the thresholded expected posterior"
   ]
  },
  {
   "cell_type": "code",
   "execution_count": 34,
   "metadata": {},
   "outputs": [],
   "source": [
    "diff_choice_STR = map(x-> diff(x .< choice_model_STR.θ.bias), exp_STR_choice_for);\n",
    "diff_neural_STR = map(x-> diff(x .< joint_model_STR.θ.bias), exp_STR_neural);\n",
    "diff_LR_STR = map(x-> diff(x .< 0.), ΔLR_STR);\n",
    "\n",
    "diff_choice_FOF = map(x-> diff(x .< choice_model_FOF.θ.bias), exp_FOF_choice_for);\n",
    "diff_LR_FOF = map(x-> diff(x .< 0.), ΔLR_FOF);\n",
    "diff_neural_FOF = map(x-> diff(x .< joint_model_FOF.θ.bias), exp_FOF_neural);\n",
    "\n",
    "diff_choice_PPC = map(x-> diff(x .< choice_model_PPC.θ.bias), exp_PPC_choice_for);\n",
    "diff_LR_PPC = map(x-> diff(x .< 0.), ΔLR_PPC);\n",
    "diff_neural_PPC = map(x-> diff(x .< joint_model_PPC.θ.bias), exp_PPC_neural);"
   ]
  },
  {
   "cell_type": "code",
   "execution_count": 35,
   "metadata": {},
   "outputs": [],
   "source": [
    "# find the zero crossings"
   ]
  },
  {
   "cell_type": "code",
   "execution_count": 36,
   "metadata": {},
   "outputs": [],
   "source": [
    "find_diff_choice_PPC = map(x-> findall(x .!= 0), diff_choice_PPC);\n",
    "find_diff_choice_STR = map(x-> findall(x .!= 0), diff_choice_STR);\n",
    "find_diff_choice_FOF = map(x-> findall(x .!= 0), diff_choice_FOF);\n",
    "\n",
    "find_diff_LR_PPC = map(x-> findall(x .!= 0), diff_LR_PPC);\n",
    "find_diff_LR_STR = map(x-> findall(x .!= 0), diff_LR_STR);\n",
    "find_diff_LR_FOF = map(x-> findall(x .!= 0), diff_LR_FOF);\n",
    "\n",
    "find_diff_neural_PPC = map(x-> findall(x .!= 0), diff_neural_PPC);\n",
    "find_diff_neural_STR = map(x-> findall(x .!= 0), diff_neural_STR);\n",
    "find_diff_neural_FOF = map(x-> findall(x .!= 0), diff_neural_FOF);"
   ]
  },
  {
   "cell_type": "code",
   "execution_count": 37,
   "metadata": {},
   "outputs": [],
   "source": [
    "# find the trials which have zero crossings (putative events)"
   ]
  },
  {
   "cell_type": "code",
   "execution_count": 38,
   "metadata": {},
   "outputs": [],
   "source": [
    "which_trials_PPC_LR = findall(length.(find_diff_LR_PPC) .!= 0);\n",
    "which_trials_FOF_LR = findall(length.(find_diff_LR_FOF) .!= 0);\n",
    "which_trials_STR_LR = findall(length.(find_diff_LR_STR) .!= 0);"
   ]
  },
  {
   "cell_type": "code",
   "execution_count": 39,
   "metadata": {},
   "outputs": [],
   "source": [
    "which_trials_PPC_neural = findall(length.(find_diff_neural_PPC) .!= 0);\n",
    "which_trials_FOF_neural = findall(length.(find_diff_neural_FOF) .!= 0);\n",
    "which_trials_STR_neural = findall(length.(find_diff_neural_STR) .!= 0);"
   ]
  },
  {
   "cell_type": "code",
   "execution_count": 40,
   "metadata": {},
   "outputs": [],
   "source": [
    "which_trials_PPC_choice = findall(length.(find_diff_choice_PPC) .!= 0);\n",
    "which_trials_FOF_choice = findall(length.(find_diff_choice_FOF) .!= 0);\n",
    "which_trials_STR_choice = findall(length.(find_diff_choice_STR) .!= 0);"
   ]
  },
  {
   "cell_type": "code",
   "execution_count": 41,
   "metadata": {},
   "outputs": [],
   "source": [
    "#include(joinpath(abspath(joinpath(pwd(), \"..\")), \"src/change-of-mind.jl\"));\n",
    "import DePasqualeElife2024: CoM"
   ]
  },
  {
   "cell_type": "code",
   "execution_count": 42,
   "metadata": {},
   "outputs": [],
   "source": [
    "# use a more conservative threshold to find the events"
   ]
  },
  {
   "cell_type": "code",
   "execution_count": 43,
   "metadata": {},
   "outputs": [],
   "source": [
    "thresh = joint_model_PPC.θ.bias\n",
    "margin = 2\n",
    "x = exp_PPC_neural\n",
    "which_trials = which_trials_PPC_neural\n",
    "events = find_diff_neural_PPC;\n",
    "\n",
    "output = map((x,y)-> map(y-> CoM(x, y, thresh, margin), y), \n",
    "        getindex(x, which_trials), \n",
    "        getindex(events, which_trials));\n",
    "\n",
    "y_PPC_neural = map(x-> getindex.(x, 1), output)\n",
    "isevent_PPC_neural = map(x-> getindex.(x, 4), output);"
   ]
  },
  {
   "cell_type": "code",
   "execution_count": 44,
   "metadata": {},
   "outputs": [],
   "source": [
    "thresh = joint_model_STR.θ.bias\n",
    "margin = 2\n",
    "x = exp_STR_neural\n",
    "which_trials = which_trials_STR_neural\n",
    "events = find_diff_neural_STR;\n",
    "\n",
    "output = map((x,y)-> map(y-> CoM(x, y, thresh, margin), y), \n",
    "        getindex(x, which_trials), \n",
    "        getindex(events, which_trials));\n",
    "\n",
    "y_STR_neural = map(x-> getindex.(x, 1), output)\n",
    "isevent_STR_neural = map(x-> getindex.(x, 4), output);"
   ]
  },
  {
   "cell_type": "code",
   "execution_count": 45,
   "metadata": {},
   "outputs": [],
   "source": [
    "thresh = joint_model_FOF.θ.bias\n",
    "margin = 2\n",
    "x = exp_FOF_neural\n",
    "which_trials = which_trials_FOF_neural\n",
    "events = find_diff_neural_FOF;\n",
    "\n",
    "output = map((x,y)-> map(y-> CoM(x, y, thresh, margin), y), \n",
    "        getindex(x, which_trials), \n",
    "        getindex(events, which_trials));\n",
    "\n",
    "y_FOF_neural = map(x-> getindex.(x, 1), output)\n",
    "isevent_FOF_neural = map(x-> getindex.(x, 4), output);"
   ]
  },
  {
   "cell_type": "code",
   "execution_count": 46,
   "metadata": {},
   "outputs": [],
   "source": [
    "thresh = choice_model_FOF.θ.bias\n",
    "margin = 2\n",
    "x = exp_FOF_choice_for\n",
    "which_trials = which_trials_FOF_choice\n",
    "events = find_diff_choice_FOF;\n",
    "\n",
    "output = map((x,y)-> map(y-> CoM(x, y, thresh, margin), y), \n",
    "        getindex(x, which_trials), \n",
    "        getindex(events, which_trials));\n",
    "\n",
    "y_FOF_choice = map(x-> getindex.(x, 1), output)\n",
    "isevent_FOF_choice = map(x-> getindex.(x, 4), output);"
   ]
  },
  {
   "cell_type": "code",
   "execution_count": 47,
   "metadata": {},
   "outputs": [],
   "source": [
    "thresh = choice_model_PPC.θ.bias\n",
    "margin = 2\n",
    "x = exp_PPC_choice_for\n",
    "which_trials = which_trials_PPC_choice\n",
    "events = find_diff_choice_PPC;\n",
    "\n",
    "output = map((x,y)-> map(y-> CoM(x, y, thresh, margin), y), \n",
    "        getindex(x, which_trials), \n",
    "        getindex(events, which_trials));\n",
    "\n",
    "y_PPC_choice = map(x-> getindex.(x, 1), output)\n",
    "isevent_PPC_choice = map(x-> getindex.(x, 4), output);"
   ]
  },
  {
   "cell_type": "code",
   "execution_count": 48,
   "metadata": {},
   "outputs": [],
   "source": [
    "thresh = choice_model_STR.θ.bias\n",
    "margin = 2\n",
    "x = exp_STR_choice_for\n",
    "which_trials = which_trials_STR_choice\n",
    "events = find_diff_choice_STR;\n",
    "\n",
    "output = map((x,y)-> map(y-> CoM(x, y, thresh, margin), y), \n",
    "        getindex(x, which_trials), \n",
    "        getindex(events, which_trials));\n",
    "\n",
    "y_STR_choice = map(x-> getindex.(x, 1), output)\n",
    "isevent_STR_choice = map(x-> getindex.(x, 4), output);"
   ]
  },
  {
   "cell_type": "code",
   "execution_count": 49,
   "metadata": {},
   "outputs": [],
   "source": [
    "thresh = 0\n",
    "margin = 2\n",
    "x = ΔLR_FOF\n",
    "which_trials = which_trials_FOF_LR\n",
    "events = find_diff_LR_FOF;\n",
    "\n",
    "output = map((x,y)-> map(y-> CoM(x, y, thresh, margin), y), \n",
    "        getindex(x, which_trials), \n",
    "        getindex(events, which_trials));\n",
    "\n",
    "y_FOF_LR = map(x-> getindex.(x, 1), output)\n",
    "isevent_FOF_LR = map(x-> getindex.(x, 4), output);"
   ]
  },
  {
   "cell_type": "code",
   "execution_count": 50,
   "metadata": {},
   "outputs": [],
   "source": [
    "thresh = 0\n",
    "margin = 2\n",
    "x = ΔLR_PPC\n",
    "which_trials = which_trials_PPC_LR\n",
    "events = find_diff_LR_PPC;\n",
    "\n",
    "output = map((x,y)-> map(y-> CoM(x, y, thresh, margin), y), \n",
    "        getindex(x, which_trials), \n",
    "        getindex(events, which_trials));\n",
    "\n",
    "y_PPC_LR = map(x-> getindex.(x, 1), output)\n",
    "isevent_PPC_LR = map(x-> getindex.(x, 4), output);"
   ]
  },
  {
   "cell_type": "code",
   "execution_count": 51,
   "metadata": {},
   "outputs": [],
   "source": [
    "thresh = 0\n",
    "margin = 2\n",
    "x = ΔLR_STR\n",
    "which_trials = which_trials_STR_LR\n",
    "events = find_diff_LR_STR;\n",
    "\n",
    "output = map((x,y)-> map(y-> CoM(x, y, thresh, margin), y), \n",
    "        getindex(x, which_trials), \n",
    "        getindex(events, which_trials));\n",
    "\n",
    "y_STR_LR = map(x-> getindex.(x, 1), output)\n",
    "isevent_STR_LR = map(x-> getindex.(x, 4), output);"
   ]
  },
  {
   "cell_type": "code",
   "execution_count": 52,
   "metadata": {},
   "outputs": [],
   "source": [
    "# find the trials that have putative crossings...\n",
    "selected_neural_events_FOF = getindex(find_diff_neural_FOF, which_trials_FOF_neural);"
   ]
  },
  {
   "cell_type": "code",
   "execution_count": 53,
   "metadata": {},
   "outputs": [],
   "source": [
    "#...then select the ones that actual do from that shorter list\n",
    "selected_neural_events_FOF = vcat(selected_neural_events_FOF...)[vcat(isevent_FOF_neural...)];"
   ]
  },
  {
   "cell_type": "code",
   "execution_count": 54,
   "metadata": {},
   "outputs": [],
   "source": [
    "# do this for all datasets"
   ]
  },
  {
   "cell_type": "code",
   "execution_count": 55,
   "metadata": {},
   "outputs": [],
   "source": [
    "selected_neural_events_PPC = getindex(find_diff_neural_PPC, which_trials_PPC_neural);\n",
    "selected_neural_events_PPC = vcat(selected_neural_events_PPC...)[vcat(isevent_PPC_neural...)];\n",
    "selected_neural_events_STR = getindex(find_diff_neural_STR, which_trials_STR_neural);\n",
    "selected_neural_events_STR = vcat(selected_neural_events_STR...)[vcat(isevent_STR_neural...)];"
   ]
  },
  {
   "cell_type": "code",
   "execution_count": 56,
   "metadata": {},
   "outputs": [],
   "source": [
    "selected_choice_events_FOF = getindex(find_diff_choice_FOF, which_trials_FOF_choice);\n",
    "selected_choice_events_FOF = vcat(selected_choice_events_FOF...)[vcat(isevent_FOF_choice...)];\n",
    "selected_choice_events_PPC = getindex(find_diff_choice_PPC, which_trials_PPC_choice);\n",
    "selected_choice_events_PPC = vcat(selected_choice_events_PPC...)[vcat(isevent_PPC_choice...)];\n",
    "selected_choice_events_STR = getindex(find_diff_choice_STR, which_trials_STR_choice);\n",
    "selected_choice_events_STR = vcat(selected_choice_events_STR...)[vcat(isevent_STR_choice...)];"
   ]
  },
  {
   "cell_type": "code",
   "execution_count": 57,
   "metadata": {},
   "outputs": [],
   "source": [
    "selected_LR_events_FOF = getindex(find_diff_LR_FOF, which_trials_FOF_LR);\n",
    "selected_LR_events_FOF = vcat(selected_LR_events_FOF...)[vcat(isevent_FOF_LR...)];\n",
    "selected_LR_events_PPC = getindex(find_diff_LR_PPC, which_trials_PPC_LR);\n",
    "selected_LR_events_PPC = vcat(selected_LR_events_PPC...)[vcat(isevent_PPC_LR...)];\n",
    "selected_LR_events_STR = getindex(find_diff_LR_STR, which_trials_STR_LR);\n",
    "selected_LR_events_STR = vcat(selected_LR_events_STR...)[vcat(isevent_STR_LR...)];"
   ]
  },
  {
   "cell_type": "markdown",
   "metadata": {},
   "source": [
    "## Show nice change of mind events"
   ]
  },
  {
   "cell_type": "code",
   "execution_count": 58,
   "metadata": {},
   "outputs": [],
   "source": [
    "FOF_switches = which_trials_FOF_neural[any.(isevent_FOF_neural)];\n",
    "PPC_switches = which_trials_PPC_neural[any.(isevent_PPC_neural)];\n",
    "STR_switches = which_trials_STR_neural[any.(isevent_STR_neural)];"
   ]
  },
  {
   "cell_type": "code",
   "execution_count": 59,
   "metadata": {},
   "outputs": [
    {
     "data": {
      "text/plain": [
       "3-element Vector{String}:\n",
       " \"red\"\n",
       " \"#1822A0\"\n",
       " \"#A01892\""
      ]
     },
     "metadata": {},
     "output_type": "display_data"
    }
   ],
   "source": [
    "using Colors, PyPlot\n",
    "mycolors = [\"red\", \"#1822A0\", \"#A01892\"]"
   ]
  },
  {
   "cell_type": "code",
   "execution_count": 60,
   "metadata": {},
   "outputs": [
    {
     "data": {
      "image/png": "[encoded data removed]",
      "text/plain": [
       "Figure(PyObject <Figure size 1500x375 with 3 Axes>)"
      ]
     },
     "metadata": {},
     "output_type": "display_data"
    }
   ],
   "source": [
    "fig, ax = subplots(1, 3, figsize=(5, 1.25), dpi=300, frameon=true)\n",
    "\n",
    "fs = 6\n",
    "rc(\"xtick\", labelsize=fs)\n",
    "rc(\"ytick\", labelsize=fs)\n",
    "\n",
    "tri = FOF_switches[188]\n",
    "T = length(exp_FOF_neural[tri])\n",
    "\n",
    "splt = 1\n",
    "ax[splt].plot(collect(1:T)*dt, ΔLR_FOF[tri], color=[0.6, 0.6, 0.6], label=\"ΔLR\")\n",
    "ax[splt].plot(collect(1:T)*dt, exp_FOF_choice_for[tri], color=\"black\", label=\"choice\")\n",
    "ax[splt].plot(collect(1:T)*dt, exp_FOF_neural[tri], color=mycolors[1], label=\"joint\", linestyle=\"-\")\n",
    "ax[splt].fill_between(range(dt, stop=dt*T, length=T),\n",
    "    10 * (2 * choice_data_FOF[tri].choice - 1) * ones(T), zeros(T),\n",
    "    alpha=0.2, color=mycolors[1]) \n",
    "\n",
    "ax[splt].xaxis.set_ticks_position(\"bottom\")\n",
    "ax[splt].spines[\"right\"].set_visible(false)\n",
    "ax[splt].spines[\"top\"].set_visible(false)\n",
    "ax[splt].spines[\"bottom\"].set_linewidth(0.5)\n",
    "ax[splt].spines[\"left\"].set_linewidth(0.5)\n",
    "ax[splt].set_xticks(range(0., stop=0.6, length=3), minor=false)\n",
    "ax[splt].set_xticks(range(0., stop=0.8, length=9), minor=true)\n",
    "ax[splt].set_yticks(range(-10, stop=10, length=3), minor=false)\n",
    "ax[splt].set_yticks(range(-10, stop=10, length=5), minor=true)\n",
    "ax[splt].tick_params(width=0.5, length=2)\n",
    "ax[splt].tick_params(which=\"minor\", width=0.5, length=1.5)\n",
    "ax[splt].set_ylim(-10,10)\n",
    "ax[splt].set_xlim(0,0.7)\n",
    "\n",
    "tri = PPC_switches[250]\n",
    "T = length(exp_PPC_neural[tri])\n",
    "\n",
    "splt = 2\n",
    "ax[splt].plot(collect(1:T)*dt, ΔLR_PPC[tri], color=[0.6, 0.6, 0.6], label=\"ΔLR\")\n",
    "ax[splt].plot(collect(1:T)*dt, exp_PPC_choice_for[tri], color=\"black\", label=\"choice\")\n",
    "ax[splt].plot(collect(1:T)*dt, exp_PPC_neural[tri], color=mycolors[2], label=\"joint\", linestyle=\"-\")\n",
    "ax[splt].fill_between(range(dt, stop=dt*T, length=T),\n",
    "    30 * (2 * choice_data_PPC[tri].choice - 1) * ones(T), zeros(T),\n",
    "    alpha=0.2, color=mycolors[2]) \n",
    "\n",
    "ax[splt].xaxis.set_ticks_position(\"bottom\")\n",
    "ax[splt].xaxis.set_ticks_position(\"bottom\")\n",
    "ax[splt].spines[\"right\"].set_visible(false)\n",
    "ax[splt].spines[\"top\"].set_visible(false)\n",
    "ax[splt].spines[\"bottom\"].set_linewidth(0.5)\n",
    "ax[splt].spines[\"left\"].set_linewidth(0.5)\n",
    "ax[splt].set_xticks(range(0., stop=0.6, length=3), minor=false)\n",
    "ax[splt].set_xticks(range(0., stop=0.8, length=9), minor=true)\n",
    "ax[splt].set_yticks(range(-30, stop=30, length=3), minor=false)\n",
    "ax[splt].set_yticks(range(-30, stop=30, length=5), minor=true)\n",
    "ax[splt].tick_params(width=0.5, length=2)\n",
    "ax[splt].tick_params(which=\"minor\", width=0.5, length=1.5)\n",
    "ax[splt].set_ylim(-30,30)\n",
    "ax[splt].set_xlim(0,0.75)\n",
    "\n",
    "\n",
    "tri = 67\n",
    "T = length(exp_STR_neural[tri])\n",
    "\n",
    "splt = 3\n",
    "ax[splt].plot(collect(1:T)*dt, ΔLR_STR[tri], color=[0.6, 0.6, 0.6], label=\"ΔLR\")\n",
    "ax[splt].plot(collect(1:T)*dt, exp_STR_choice_for[tri],  color=\"black\", label=\"choice\")\n",
    "ax[splt].plot(collect(1:T)*dt, exp_STR_neural[tri], color=mycolors[3], label=\"joint\", linestyle=\"-\")\n",
    "ax[splt].fill_between(range(dt, stop=dt*T, length=T),\n",
    "    33 * ones(T), zeros(T),\n",
    "    alpha=0.2, color=mycolors[3]) \n",
    "\n",
    "ax[splt].xaxis.set_ticks_position(\"bottom\")\n",
    "ax[splt].xaxis.set_ticks_position(\"bottom\")\n",
    "ax[splt].spines[\"right\"].set_visible(false)\n",
    "ax[splt].spines[\"top\"].set_visible(false)\n",
    "ax[splt].spines[\"bottom\"].set_linewidth(0.5)\n",
    "ax[splt].spines[\"left\"].set_linewidth(0.5)\n",
    "\n",
    "ax[splt].set_xticks(range(0., stop=1.0, length=3), minor=false)\n",
    "ax[splt].set_xticks(range(0., stop=1.0, length=11), minor=true)\n",
    "ax[splt].set_yticks(range(-30, stop=30, length=3), minor=false)\n",
    "ax[splt].set_yticks(range(-30, stop=30, length=5), minor=true)\n",
    "ax[splt].tick_params(width=0.5, length=2)\n",
    "ax[splt].tick_params(which=\"minor\", width=0.5, length=1.5)\n",
    "ax[splt].set_ylim(-33,33)\n",
    "ax[splt].set_xlim(0,1.)\n",
    "\n",
    "tight_layout()\n",
    "display(gcf())\n",
    "close(gcf())\n",
    "#PyPlot.savefig(joinpath(abspath(joinpath(pwd(), \"..\")), \"figs/\")*\"Fig6C.pdf\")"
   ]
  },
  {
   "cell_type": "markdown",
   "metadata": {},
   "source": [
    "## Time analysis"
   ]
  },
  {
   "cell_type": "code",
   "execution_count": 61,
   "metadata": {},
   "outputs": [],
   "source": [
    "#get the trial times"
   ]
  },
  {
   "cell_type": "code",
   "execution_count": 62,
   "metadata": {},
   "outputs": [],
   "source": [
    "T_PPC = getfield.(getfield.(getfield.(vcat(data_PPC...), :input_data), :binned_clicks), :nT);"
   ]
  },
  {
   "cell_type": "code",
   "execution_count": 63,
   "metadata": {},
   "outputs": [],
   "source": [
    "T_FOF = getfield.(getfield.(getfield.(vcat(data_FOF...), :input_data), :binned_clicks), :nT);"
   ]
  },
  {
   "cell_type": "code",
   "execution_count": 64,
   "metadata": {},
   "outputs": [],
   "source": [
    "T_STR = getfield.(getfield.(getfield.(vcat(data_STR...), :input_data), :binned_clicks), :nT);"
   ]
  },
  {
   "cell_type": "code",
   "execution_count": 65,
   "metadata": {},
   "outputs": [],
   "source": [
    "#1. select the trials with events\n",
    "#2. get trial times for trials with evetns\n",
    "#3. compute the difference between the end of the trial and the event, for each individual event, but keep the trial strucutre\n",
    "# (so that if a trial contains more than one event, they will be together)"
   ]
  },
  {
   "cell_type": "code",
   "execution_count": 66,
   "metadata": {},
   "outputs": [],
   "source": [
    "selected_neural_events_FOF_2 = getindex(find_diff_neural_FOF, which_trials_FOF_neural)[any.(isevent_FOF_neural)];\n",
    "selected_Ts_neural = getindex(T_FOF, which_trials_FOF_neural)[any.(isevent_FOF_neural)];\n",
    "diff_T_neural_FOF = map((x,y,z)-> y[z] .- x, selected_Ts_neural, selected_neural_events_FOF_2, \n",
    "    isevent_FOF_neural[any.(isevent_FOF_neural)]);"
   ]
  },
  {
   "cell_type": "code",
   "execution_count": 67,
   "metadata": {},
   "outputs": [],
   "source": [
    "selected_choice_events_FOF_2 = getindex(find_diff_choice_FOF, which_trials_FOF_choice)[any.(isevent_FOF_choice)];\n",
    "selected_Ts_choice = getindex(T_FOF, which_trials_FOF_choice)[any.(isevent_FOF_choice)];\n",
    "diff_T_choice_FOF = map((x,y,z)-> y[z] .- x, selected_Ts_choice, selected_choice_events_FOF_2,\n",
    "    isevent_FOF_choice[any.(isevent_FOF_choice)]);"
   ]
  },
  {
   "cell_type": "code",
   "execution_count": 68,
   "metadata": {},
   "outputs": [],
   "source": [
    "selected_LR_events_FOF_2 = getindex(find_diff_LR_FOF, which_trials_FOF_LR)[any.(isevent_FOF_LR)];\n",
    "selected_Ts_LR = getindex(T_FOF, which_trials_FOF_LR)[any.(isevent_FOF_LR)];\n",
    "diff_T_LR_FOF = map((x,y,z)-> y[z] .- x, selected_Ts_LR, selected_LR_events_FOF_2, isevent_FOF_LR[any.(isevent_FOF_LR)]);"
   ]
  },
  {
   "cell_type": "code",
   "execution_count": 69,
   "metadata": {},
   "outputs": [],
   "source": [
    "selected_neural_events_PPC_2 = getindex(find_diff_neural_PPC, which_trials_PPC_neural)[any.(isevent_PPC_neural)];\n",
    "selected_Ts_neural_PPC = getindex(T_PPC, which_trials_PPC_neural)[any.(isevent_PPC_neural)];\n",
    "diff_T_neural_PPC = map((x,y,z)-> y[z] .- x, selected_Ts_neural_PPC, selected_neural_events_PPC_2, \n",
    "    isevent_PPC_neural[any.(isevent_PPC_neural)]);\n",
    "\n",
    "selected_choice_events_PPC_2 = getindex(find_diff_choice_PPC, which_trials_PPC_choice)[any.(isevent_PPC_choice)];\n",
    "selected_Ts_choice_PPC = getindex(T_PPC, which_trials_PPC_choice)[any.(isevent_PPC_choice)];\n",
    "diff_T_choice_PPC = map((x,y,z)-> y[z] .- x, selected_Ts_choice_PPC, selected_choice_events_PPC_2,\n",
    "    isevent_PPC_choice[any.(isevent_PPC_choice)]);\n",
    "\n",
    "selected_LR_events_PPC_2 = getindex(find_diff_LR_PPC, which_trials_PPC_LR)[any.(isevent_PPC_LR)];\n",
    "selected_Ts_LR_PPC = getindex(T_PPC, which_trials_PPC_LR)[any.(isevent_PPC_LR)];\n",
    "diff_T_LR_PPC = map((x,y,z)-> y[z] .- x, selected_Ts_LR_PPC, selected_LR_events_PPC_2, \n",
    "    isevent_PPC_LR[any.(isevent_PPC_LR)]);"
   ]
  },
  {
   "cell_type": "code",
   "execution_count": 70,
   "metadata": {},
   "outputs": [],
   "source": [
    "selected_neural_events_STR_2 = getindex(find_diff_neural_STR, which_trials_STR_neural)[any.(isevent_STR_neural)];\n",
    "selected_Ts_neural_STR = getindex(T_STR, which_trials_STR_neural)[any.(isevent_STR_neural)];\n",
    "diff_T_neural_STR = map((x,y,z)-> y[z] .- x, selected_Ts_neural_STR, selected_neural_events_STR_2, \n",
    "    isevent_STR_neural[any.(isevent_STR_neural)]);\n",
    "\n",
    "selected_choice_events_STR_2 = getindex(find_diff_choice_STR, which_trials_STR_choice)[any.(isevent_STR_choice)];\n",
    "selected_Ts_choice_STR = getindex(T_STR, which_trials_STR_choice)[any.(isevent_STR_choice)];\n",
    "diff_T_choice_STR = map((x,y,z)-> y[z] .- x, selected_Ts_choice_STR, selected_choice_events_STR_2,\n",
    "    isevent_STR_choice[any.(isevent_STR_choice)]);\n",
    "\n",
    "selected_LR_events_STR_2 = getindex(find_diff_LR_STR, which_trials_STR_LR)[any.(isevent_STR_LR)];\n",
    "selected_Ts_LR_STR = getindex(T_STR, which_trials_STR_LR)[any.(isevent_STR_LR)];\n",
    "diff_T_LR_STR = map((x,y,z)-> y[z] .- x, selected_Ts_LR_STR, selected_LR_events_STR_2, \n",
    "    isevent_STR_LR[any.(isevent_STR_LR)]);"
   ]
  },
  {
   "cell_type": "code",
   "execution_count": 71,
   "metadata": {},
   "outputs": [],
   "source": [
    "import Statistics: mean"
   ]
  },
  {
   "cell_type": "code",
   "execution_count": 72,
   "metadata": {},
   "outputs": [
    {
     "data": {
      "image/png": "[encoded data removed]",
      "text/plain": [
       "Figure(PyObject <Figure size 1500x375 with 4 Axes>)"
      ]
     },
     "metadata": {},
     "output_type": "display_data"
    }
   ],
   "source": [
    "fig, ax = subplots(1, 4, figsize=(5, 1.25), dpi=300, frameon=true)\n",
    "\n",
    "fs = 6\n",
    "rc(\"xtick\", labelsize=fs)\n",
    "rc(\"ytick\", labelsize=fs)\n",
    "\n",
    "subplot(1,4,1)\n",
    "hist(vcat(diff_T_neural_FOF...) * dt, alpha=0.5, label=\"joint\", color=mycolors[1])\n",
    "hist(vcat(diff_T_LR_FOF...)* dt, alpha=0.5, label=\"ΔLR\", color=\"black\");\n",
    "\n",
    "yticks([0, 100, 200], [0, round(100/length(ΔLR_FOF), digits=3), \n",
    "        round(200/length(ΔLR_FOF), digits=3)])\n",
    "\n",
    "ax = gca()\n",
    "ax.xaxis.set_ticks_position(\"bottom\")\n",
    "ax.xaxis.set_ticks_position(\"bottom\")\n",
    "ax.spines[\"right\"].set_visible(false)\n",
    "ax.spines[\"top\"].set_visible(false)\n",
    "ax.spines[\"bottom\"].set_linewidth(0.5)\n",
    "ax.spines[\"left\"].set_linewidth(0.5)\n",
    "ax.set_ylim(0, 250)\n",
    "xlim(-1,0)\n",
    "ax.set_xticks(range(0, stop=-1., length=5), minor=true)\n",
    "ax.set_yticks(range(0, stop=200., length=5), minor=true)\n",
    "ax.tick_params(width=0.5, length=2)\n",
    "ax.tick_params(which=\"minor\", width=0.5, length=1)\n",
    "\n",
    "subplot(1,4,2)\n",
    "\n",
    "hist(vcat(diff_T_neural_PPC...) * dt, alpha=0.5, label=\"joint\", color=mycolors[2])\n",
    "hist(vcat(diff_T_LR_PPC...)* dt, alpha=0.5, label=\"ΔLR\", color=\"black\");\n",
    "\n",
    "yticks([0, 100, 200], [0, round(100/length(ΔLR_PPC), digits=2), \n",
    "        round(200/length(ΔLR_PPC), digits=2)])\n",
    "\n",
    "ax = gca()\n",
    "ax.xaxis.set_ticks_position(\"bottom\")\n",
    "ax.xaxis.set_ticks_position(\"bottom\")\n",
    "ax.spines[\"right\"].set_visible(false)\n",
    "ax.spines[\"top\"].set_visible(false)\n",
    "ax.spines[\"bottom\"].set_linewidth(0.5)\n",
    "ax.spines[\"left\"].set_linewidth(0.5)\n",
    "ax.tick_params(width=0.5, length=2)\n",
    "ax.tick_params(which=\"minor\", width=0.5, length=1)\n",
    "ax.set_ylim(0, 250)\n",
    "ax.set_xticks(range(0, stop=-1., length=5), minor=true)\n",
    "ax.set_yticks(range(0, stop=200., length=5), minor=true)\n",
    "\n",
    "subplot(1,4,3)\n",
    "\n",
    "hist(vcat(diff_T_neural_STR...) * dt, alpha=0.5, label=\"joint\", color=mycolors[3])\n",
    "hist(vcat(diff_T_LR_STR...)* dt, alpha=0.5, label=\"ΔLR\", color=\"black\");\n",
    "yticks([0, 100, 200], [0, round(100/length(ΔLR_STR), digits=2), \n",
    "        round(200/length(ΔLR_STR), digits=2)])\n",
    "\n",
    "ax = gca()\n",
    "ax.xaxis.set_ticks_position(\"bottom\")\n",
    "ax.xaxis.set_ticks_position(\"bottom\")\n",
    "ax.spines[\"right\"].set_visible(false)\n",
    "ax.spines[\"top\"].set_visible(false)\n",
    "ax.spines[\"bottom\"].set_linewidth(0.5)\n",
    "ax.spines[\"left\"].set_linewidth(0.5)\n",
    "ax.set_xticks(range(0, stop=-1., length=5), minor=true)\n",
    "ax.set_yticks(range(0, stop=200., length=5), minor=true)\n",
    "ax.tick_params(which=\"major\", width=0.5, length=2)\n",
    "ax.tick_params(which=\"minor\", width=0.5, length=1)\n",
    "ax.set_ylim(0, 250)\n",
    "\n",
    "subplot(1,4,4)\n",
    "plot([1,2,3], [sum(vcat(isevent_PPC_LR...))/length(ΔLR_PPC), \n",
    "    sum(vcat(isevent_PPC_choice...))/length(exp_PPC_choice_for),\n",
    "    sum(vcat(isevent_PPC_neural...))/length(exp_PPC_neural)], color=mycolors[2],\n",
    "    marker=\"o\", markersize=3);\n",
    "plot([1,2,3], [sum(vcat(isevent_STR_LR...))/length(ΔLR_STR), \n",
    "    sum(vcat(isevent_STR_choice...))/length(exp_STR_choice_for),\n",
    "    sum(vcat(isevent_STR_neural...))/length(exp_STR_neural)], color=mycolors[3],\n",
    "    marker=\"o\", markersize=3);\n",
    "plot([1,2,3], [sum(vcat(isevent_FOF_LR...))/length(ΔLR_FOF), \n",
    "        sum(vcat(isevent_FOF_choice...))/length(exp_FOF_choice_for),\n",
    "    sum(vcat(isevent_FOF_neural...))/length(exp_FOF_neural)], color=mycolors[1],\n",
    "    marker=\"o\", markersize=3);\n",
    "\n",
    "ax = gca()\n",
    "ax.xaxis.set_ticks_position(\"bottom\")\n",
    "ax.xaxis.set_ticks_position(\"bottom\")\n",
    "ax.spines[\"right\"].set_visible(false)\n",
    "ax.spines[\"top\"].set_visible(false)\n",
    "ax.spines[\"bottom\"].set_linewidth(0.5)\n",
    "ax.spines[\"left\"].set_linewidth(0.5)\n",
    "xticks([1,2,3], [\"Δclicks\", \"choice\", \"joint\"], rotation=0)\n",
    "ax.tick_params(width=0.5, length=2)\n",
    "ax.tick_params(which=\"minor\", width=0.5, length=1)\n",
    "ax.set_ylim(0, 0.15)\n",
    "ax.set_yticks(range(0, stop=0.15, length=4), minor=true)\n",
    "\n",
    "tight_layout()\n",
    "display(gcf())\n",
    "close(gcf())\n",
    "#PyPlot.savefig(joinpath(abspath(joinpath(pwd(), \"..\")), \"figs/\")*\"Fig6D-E.pdf\")"
   ]
  },
  {
   "cell_type": "markdown",
   "metadata": {},
   "source": [
    "## Cpoke analysis"
   ]
  },
  {
   "cell_type": "code",
   "execution_count": 73,
   "metadata": {},
   "outputs": [],
   "source": [
    "## number of trials that intersect where it says LR changed mind and neural changed mind"
   ]
  },
  {
   "cell_type": "code",
   "execution_count": 74,
   "metadata": {},
   "outputs": [
    {
     "data": {
      "text/plain": [
       "6-element Vector{Int64}:\n",
       "  172\n",
       " 2606\n",
       " 3077\n",
       " 7976\n",
       " 8911\n",
       " 9920"
      ]
     },
     "metadata": {},
     "output_type": "display_data"
    }
   ],
   "source": [
    "intersect(which_trials_STR_neural[any.(isevent_STR_neural)], which_trials_STR_LR[any.(isevent_STR_LR)])"
   ]
  },
  {
   "cell_type": "code",
   "execution_count": 75,
   "metadata": {},
   "outputs": [
    {
     "data": {
      "text/plain": [
       "Int64[]"
      ]
     },
     "metadata": {},
     "output_type": "display_data"
    }
   ],
   "source": [
    "intersect(which_trials_PPC_neural[any.(isevent_PPC_neural)], which_trials_PPC_LR[any.(isevent_PPC_LR)])"
   ]
  },
  {
   "cell_type": "code",
   "execution_count": 76,
   "metadata": {},
   "outputs": [
    {
     "data": {
      "text/plain": [
       "0.013513513513513514"
      ]
     },
     "metadata": {},
     "output_type": "display_data"
    }
   ],
   "source": [
    "length(intersect(which_trials_FOF_neural[any.(isevent_FOF_neural)], which_trials_FOF_LR[any.(isevent_FOF_LR)])) / \n",
    "    length(which_trials_FOF_neural[any.(isevent_FOF_neural)])"
   ]
  },
  {
   "cell_type": "code",
   "execution_count": 77,
   "metadata": {},
   "outputs": [],
   "source": [
    "selected_cpokes_FOF = getindex(vcat(vec.(cpoke_out_FOF)...), which_trials_FOF_neural)[any.(isevent_FOF_neural)];"
   ]
  },
  {
   "cell_type": "code",
   "execution_count": 78,
   "metadata": {},
   "outputs": [],
   "source": [
    "selected_cpokes_PPC = getindex(vcat(vec.(cpoke_out_PPC)...), which_trials_PPC_neural)[any.(isevent_PPC_neural)];"
   ]
  },
  {
   "cell_type": "code",
   "execution_count": 79,
   "metadata": {},
   "outputs": [],
   "source": [
    "selected_cpokes_STR = getindex(vcat(vec.(cpoke_out_STR)...), which_trials_STR_neural)[any.(isevent_STR_neural)];"
   ]
  },
  {
   "cell_type": "code",
   "execution_count": 81,
   "metadata": {},
   "outputs": [],
   "source": [
    "using DataFrames, GLM"
   ]
  },
  {
   "cell_type": "code",
   "execution_count": 82,
   "metadata": {},
   "outputs": [
    {
     "data": {
      "text/plain": [
       "Int64[]"
      ]
     },
     "metadata": {},
     "output_type": "display_data"
    }
   ],
   "source": [
    "findall(length.(diff_T_neural_FOF) .> 1)"
   ]
  },
  {
   "cell_type": "code",
   "execution_count": 83,
   "metadata": {},
   "outputs": [],
   "source": [
    "ols_data_FOF = DataFrame(X=last.(diff_T_neural_FOF)[selected_cpokes_FOF .< 0.5]*dt, \n",
    "    Y=selected_cpokes_FOF[selected_cpokes_FOF .< 0.5]);"
   ]
  },
  {
   "cell_type": "code",
   "execution_count": 84,
   "metadata": {},
   "outputs": [
    {
     "data": {
      "text/plain": [
       "StatsModels.TableRegressionModel{LinearModel{GLM.LmResp{Vector{Float64}}, GLM.DensePredChol{Float64, LinearAlgebra.CholeskyPivoted{Float64, Matrix{Float64}, Vector{Int64}}}}, Matrix{Float64}}\n",
       "\n",
       "Y ~ 1 + X\n",
       "\n",
       "Coefficients:\n",
       "────────────────────────────────────────────────────────────────────────────\n",
       "                  Coef.  Std. Error      t  Pr(>|t|)   Lower 95%   Upper 95%\n",
       "────────────────────────────────────────────────────────────────────────────\n",
       "(Intercept)   0.106976    0.0120248   8.90    <1e-15   0.0832753  0.130677\n",
       "X            -0.0566851   0.0300765  -1.88    0.0608  -0.115966   0.00259593\n",
       "────────────────────────────────────────────────────────────────────────────"
      ]
     },
     "metadata": {},
     "output_type": "display_data"
    }
   ],
   "source": [
    "ols_FOF = lm(@formula(Y ~ X), ols_data_FOF)"
   ]
  },
  {
   "cell_type": "code",
   "execution_count": 85,
   "metadata": {},
   "outputs": [
    {
     "data": {
      "text/plain": [
       "0.06081358833126986"
      ]
     },
     "metadata": {},
     "output_type": "display_data"
    }
   ],
   "source": [
    "pval = GLM.coeftable(ols_FOF).cols[4][2]"
   ]
  },
  {
   "cell_type": "code",
   "execution_count": 86,
   "metadata": {},
   "outputs": [
    {
     "data": {
      "text/plain": [
       "StatsModels.TableRegressionModel{LinearModel{GLM.LmResp{Vector{Float64}}, GLM.DensePredChol{Float64, LinearAlgebra.CholeskyPivoted{Float64, Matrix{Float64}, Vector{Int64}}}}, Matrix{Float64}}\n",
       "\n",
       "Y ~ 1 + X\n",
       "\n",
       "Coefficients:\n",
       "─────────────────────────────────────────────────────────────────────────\n",
       "                 Coef.  Std. Error      t  Pr(>|t|)  Lower 95%  Upper 95%\n",
       "─────────────────────────────────────────────────────────────────────────\n",
       "(Intercept)  0.14815    0.00823662  17.99    <1e-55  0.131968    0.164333\n",
       "X            0.0729485  0.0246671    2.96    0.0032  0.0244848   0.121412\n",
       "─────────────────────────────────────────────────────────────────────────"
      ]
     },
     "metadata": {},
     "output_type": "display_data"
    }
   ],
   "source": [
    "ols_data_PPC = DataFrame(X=last.(diff_T_neural_PPC)[selected_cpokes_PPC .< 0.5]*dt, \n",
    "    Y=selected_cpokes_PPC[selected_cpokes_PPC .< 0.5]);\n",
    "ols_PPC = lm(@formula(Y ~ X), ols_data_PPC)"
   ]
  },
  {
   "cell_type": "code",
   "execution_count": 87,
   "metadata": {},
   "outputs": [
    {
     "data": {
      "text/plain": [
       "0.0032497572034322006"
      ]
     },
     "metadata": {},
     "output_type": "display_data"
    }
   ],
   "source": [
    "pval = GLM.coeftable(ols_PPC).cols[4][2]"
   ]
  },
  {
   "cell_type": "code",
   "execution_count": 88,
   "metadata": {},
   "outputs": [
    {
     "data": {
      "text/plain": [
       "StatsModels.TableRegressionModel{LinearModel{GLM.LmResp{Vector{Float64}}, GLM.DensePredChol{Float64, LinearAlgebra.CholeskyPivoted{Float64, Matrix{Float64}, Vector{Int64}}}}, Matrix{Float64}}\n",
       "\n",
       "Y ~ 1 + X\n",
       "\n",
       "Coefficients:\n",
       "─────────────────────────────────────────────────────────────────────────\n",
       "                 Coef.  Std. Error      t  Pr(>|t|)  Lower 95%  Upper 95%\n",
       "─────────────────────────────────────────────────────────────────────────\n",
       "(Intercept)  0.205731   0.00605512  33.98    <1e-99  0.193852   0.217609\n",
       "X            0.0526425  0.0157293    3.35    0.0008  0.0217851  0.0834998\n",
       "─────────────────────────────────────────────────────────────────────────"
      ]
     },
     "metadata": {},
     "output_type": "display_data"
    }
   ],
   "source": [
    "ols_data_STR = DataFrame(X=last.(diff_T_neural_STR)[selected_cpokes_STR .< 0.5] * dt, \n",
    "    Y=selected_cpokes_STR[selected_cpokes_STR .< 0.5]);\n",
    "ols_STR = lm(@formula(Y ~ X), ols_data_STR)"
   ]
  },
  {
   "cell_type": "code",
   "execution_count": 89,
   "metadata": {},
   "outputs": [
    {
     "data": {
      "text/plain": [
       "0.000840687741301318"
      ]
     },
     "metadata": {},
     "output_type": "display_data"
    }
   ],
   "source": [
    "pval = GLM.coeftable(ols_STR).cols[4][2]"
   ]
  },
  {
   "cell_type": "code",
   "execution_count": 90,
   "metadata": {},
   "outputs": [],
   "source": [
    "yestrials_FOF = which_trials_FOF_neural[any.(isevent_FOF_neural)];\n",
    "notrialsFOF = setdiff(1:length(find_diff_neural_FOF), which_trials_FOF_neural);"
   ]
  },
  {
   "cell_type": "code",
   "execution_count": 91,
   "metadata": {},
   "outputs": [],
   "source": [
    "yestrials_PPC = which_trials_PPC_neural[any.(isevent_PPC_neural)];\n",
    "notrialsPPC = setdiff(1:length(find_diff_neural_PPC), which_trials_PPC_neural);"
   ]
  },
  {
   "cell_type": "code",
   "execution_count": 92,
   "metadata": {},
   "outputs": [],
   "source": [
    "yestrials_STR = which_trials_STR_neural[any.(isevent_STR_neural)];\n",
    "notrialsSTR = setdiff(1:length(find_diff_neural_STR), which_trials_STR_neural);"
   ]
  },
  {
   "cell_type": "code",
   "execution_count": 93,
   "metadata": {},
   "outputs": [],
   "source": [
    "using CategoricalArrays"
   ]
  },
  {
   "cell_type": "code",
   "execution_count": 94,
   "metadata": {},
   "outputs": [],
   "source": [
    "labels = string.(1:10);"
   ]
  },
  {
   "cell_type": "code",
   "execution_count": 95,
   "metadata": {},
   "outputs": [],
   "source": [
    "ys_PPC = map(x-> mean(vcat(vec.(cpoke_out_PPC)...)[yestrials_PPC][cut(last.(diff_T_neural_PPC), \n",
    "                length(labels), labels=labels) .== x]), labels);"
   ]
  },
  {
   "cell_type": "code",
   "execution_count": 96,
   "metadata": {},
   "outputs": [],
   "source": [
    "LR_PPC = map(x-> mean(last.(ΔLR_PPC)[yestrials_PPC][cut(last.(diff_T_neural_PPC), \n",
    "                length(labels), labels=labels) .== x]), labels);"
   ]
  },
  {
   "cell_type": "code",
   "execution_count": 97,
   "metadata": {},
   "outputs": [],
   "source": [
    "xs_PPC = map(x-> mean(last.(diff_T_neural_PPC)[cut(last.(diff_T_neural_PPC), \n",
    "                length(labels), labels=labels) .== x]), labels);"
   ]
  },
  {
   "cell_type": "code",
   "execution_count": 98,
   "metadata": {},
   "outputs": [],
   "source": [
    "ys_FOF = map(x-> mean(vcat(vec.(cpoke_out_FOF)...)[yestrials_FOF][cut(last.(diff_T_neural_FOF), \n",
    "                length(labels), labels=labels) .== x]), labels);\n",
    "\n",
    "xs_FOF = map(x-> mean(last.(diff_T_neural_FOF)[cut(last.(diff_T_neural_FOF), \n",
    "                length(labels), labels=labels) .== x]), labels);"
   ]
  },
  {
   "cell_type": "code",
   "execution_count": 99,
   "metadata": {},
   "outputs": [],
   "source": [
    "LR_FOF = map(x-> mean(last.(ΔLR_FOF)[yestrials_FOF][cut(last.(diff_T_neural_FOF), \n",
    "                length(labels), labels=labels) .== x]), labels);"
   ]
  },
  {
   "cell_type": "code",
   "execution_count": 100,
   "metadata": {},
   "outputs": [],
   "source": [
    "LR_STR = map(x-> mean(last.(ΔLR_STR)[yestrials_STR][cut(last.(diff_T_neural_STR), \n",
    "                length(labels), labels=labels) .== x]), labels);"
   ]
  },
  {
   "cell_type": "code",
   "execution_count": 101,
   "metadata": {},
   "outputs": [],
   "source": [
    "ys_STR = map(x-> mean(vcat(vec.(cpoke_out_STR)...)[yestrials_STR][cut(last.(diff_T_neural_STR), \n",
    "                length(labels), labels=labels) .== x]), labels);\n",
    "xs_STR = map(x-> mean(last.(diff_T_neural_STR)[cut(last.(diff_T_neural_STR), \n",
    "                length(labels), labels=labels) .== x]), labels);"
   ]
  },
  {
   "cell_type": "markdown",
   "metadata": {},
   "source": [
    "## CoM linear regress vs boxplots"
   ]
  },
  {
   "cell_type": "code",
   "execution_count": 102,
   "metadata": {},
   "outputs": [
    {
     "data": {
      "image/png": "[encoded data removed]",
      "text/plain": [
       "Figure(PyObject <Figure size 1500x375 with 3 Axes>)"
      ]
     },
     "metadata": {},
     "output_type": "display_data"
    }
   ],
   "source": [
    "fig, ax = subplots(1, 3, figsize=(5, 1.25), dpi=300, frameon=true)\n",
    "\n",
    "fs = 6\n",
    "rc(\"xtick\", labelsize=fs)\n",
    "rc(\"ytick\", labelsize=fs)\n",
    "\n",
    "ax[1].boxplot(map(x-> (vcat(vec.(cpoke_out_FOF)...)[yestrials_FOF][cut(last.(diff_T_neural_FOF), \n",
    "            length(labels), labels=labels) .== x]), labels), positions=xs_FOF*dt, \n",
    "            widths=0.05, notch=true, showfliers=false, showcaps=false, whis=[25,75],\n",
    "            manage_ticks=false)\n",
    "\n",
    "ax[1].plot(range(-0.8, stop=0, length=100), \n",
    "    predict(ols_FOF, DataFrame(X=range(-0.8, stop=0, length=100))), color=mycolors[1])\n",
    "\n",
    "ax[1].xaxis.set_ticks_position(\"bottom\")\n",
    "ax[1].xaxis.set_ticks_position(\"bottom\")\n",
    "ax[1].spines[\"right\"].set_visible(false)\n",
    "ax[1].spines[\"top\"].set_visible(false)\n",
    "ax[1].spines[\"bottom\"].set_linewidth(0.5)\n",
    "ax[1].spines[\"left\"].set_linewidth(0.5)\n",
    "ax[1].set_xticks(range(-0.8, stop=0, length=3), minor=false)\n",
    "ax[1].set_xticks(range(-0.8, stop=0, length=9), minor=true)\n",
    "ax[1].set_yticks(range(0, stop=0.3, length=3), minor=false)\n",
    "ax[1].set_yticks(range(0, stop=0.3, length=7), minor=true)\n",
    "ax[1].tick_params(width=0.5, length=2)\n",
    "ax[1].tick_params(which=\"minor\", width=0.5, length=1.5)\n",
    "ax[1].set_xlim(-0.8, 0.0)\n",
    "\n",
    "ax[2].boxplot(map(x-> (vcat(vec.(cpoke_out_PPC)...)[yestrials_PPC][cut(last.(diff_T_neural_PPC), \n",
    "            length(labels), labels=labels) .== x]), labels), positions=xs_PPC*dt, \n",
    "            widths=0.05, notch=true, showfliers=false, showcaps=false, whis=[25,75],\n",
    "            manage_ticks=false)\n",
    "ax[2].plot(range(-0.8, stop=0, length=100), \n",
    "    predict(ols_PPC, DataFrame(X=range(-0.8, stop=0, length=100))), color=mycolors[2])\n",
    "\n",
    "ax[2].xaxis.set_ticks_position(\"bottom\")\n",
    "ax[2].xaxis.set_ticks_position(\"bottom\")\n",
    "ax[2].spines[\"right\"].set_visible(false)\n",
    "ax[2].spines[\"top\"].set_visible(false)\n",
    "ax[2].spines[\"bottom\"].set_linewidth(0.5)\n",
    "ax[2].spines[\"left\"].set_linewidth(0.5)\n",
    "ax[2].set_xticks(range(-0.8, stop=0, length=3), minor=false)\n",
    "ax[2].set_xticks(range(-0.8, stop=0, length=9), minor=true)\n",
    "ax[2].set_yticks(range(0, stop=0.3, length=3), minor=false)\n",
    "ax[2].set_yticks(range(0, stop=0.3, length=7), minor=true)\n",
    "ax[2].tick_params(width=0.5, length=2)\n",
    "ax[2].tick_params(which=\"minor\", width=0.5, length=1.5)\n",
    "ax[2].set_xlim(-0.8, 0.0)\n",
    "\n",
    "ax[3].boxplot(map(x-> (vcat(vec.(cpoke_out_STR)...)[yestrials_STR][cut(last.(diff_T_neural_STR), \n",
    "            length(labels), labels=labels) .== x]), labels), positions=xs_STR*dt, \n",
    "            widths=0.05, notch=true, showfliers=false, showcaps=false, whis=[25,75],\n",
    "            manage_ticks=false)\n",
    "ax[3].plot(range(-0.8, stop=0, length=100), \n",
    "    predict(ols_STR, DataFrame(X=range(-0.8, stop=0, length=100))), color=mycolors[3])\n",
    "\n",
    "ax[3].xaxis.set_ticks_position(\"bottom\")\n",
    "ax[3].xaxis.set_ticks_position(\"bottom\")\n",
    "ax[3].spines[\"right\"].set_visible(false)\n",
    "ax[3].spines[\"top\"].set_visible(false)\n",
    "ax[3].spines[\"bottom\"].set_linewidth(0.5)\n",
    "ax[3].spines[\"left\"].set_linewidth(0.5)\n",
    "ax[3].set_xticks(range(-0.8, stop=0, length=3), minor=false)\n",
    "ax[3].set_xticks(range(-0.8, stop=0, length=9), minor=true)\n",
    "ax[3].set_yticks(range(0, stop=0.3, length=3), minor=false)\n",
    "ax[3].set_yticks(range(0, stop=0.3, length=7), minor=true)\n",
    "ax[3].tick_params(width=0.5, length=2)\n",
    "ax[3].tick_params(which=\"minor\", width=0.5, length=1.5)\n",
    "ax[3].set_xlim(-0.8, 0.0)\n",
    "\n",
    "tight_layout()\n",
    "display(gcf())\n",
    "close(gcf())\n",
    "#PyPlot.savefig(joinpath(abspath(joinpath(pwd(), \"..\")), \"figs/\")*\"Fig6F.pdf\")"
   ]
  }
 ],
 "metadata": {
  "kernelspec": {
   "display_name": "Julia 1.10.4",
   "language": "julia",
   "name": "julia-1.10"
  },
  "language_info": {
   "file_extension": ".jl",
   "mimetype": "application/julia",
   "name": "julia",
   "version": "1.10.4"
  }
 },
 "nbformat": 4,
 "nbformat_minor": 2
}
