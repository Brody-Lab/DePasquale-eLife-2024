{
 "cells": [
  {
   "cell_type": "code",
   "execution_count": 1,
   "metadata": {},
   "outputs": [],
   "source": [
    "using Distributed\n",
    "addprocs(8);"
   ]
  },
  {
   "cell_type": "code",
   "execution_count": 2,
   "metadata": {},
   "outputs": [],
   "source": [
    "@everywhere using PulseInputDDM, MAT\n",
    "using Flatten"
   ]
  },
  {
   "cell_type": "code",
   "execution_count": 3,
   "metadata": {},
   "outputs": [],
   "source": [
    "x_joint = Vector(undef, 3);\n",
    "x_choice = Vector(undef, 3);"
   ]
  },
  {
   "cell_type": "code",
   "execution_count": 4,
   "metadata": {},
   "outputs": [],
   "source": [
    "ratnames = [\"B068\",\"T034\",\"T036\",\"T063\",\"T030\", \"T035\",\"T011\",\"B053\", \"T080\",\"T103\",\"E021\"];\n",
    "dt, n, cross = 1e-2, 53, false\n",
    "data_path = joinpath(abspath(joinpath(pwd(), \"..\")), \"data/by_session\")\n",
    "joint_model_path = joinpath(abspath(joinpath(pwd(), \"..\")), \"models/joint\");\n",
    "choice_model_path = joinpath(abspath(joinpath(pwd(), \"..\")), \"models/choice\");"
   ]
  },
  {
   "cell_type": "markdown",
   "metadata": {},
   "source": [
    "## PPC"
   ]
  },
  {
   "cell_type": "code",
   "execution_count": 5,
   "metadata": {},
   "outputs": [],
   "source": [
    "region, delay = \"PPC\", 12\n",
    "ratnum = 6:8\n",
    "rat = ratnames[ratnum]\n",
    "sessions = vcat(map(rat-> filter(x->occursin(rat,x), readdir(data_path)), rat)...);\n",
    "data_PPC, μ_rnt, μ_t = load_neural_data(joinpath.(data_path, sessions), pcut=0.01, pad=20, \n",
    "    delay=delay, dt=dt, filtSD=5, do_RBF=true);"
   ]
  },
  {
   "cell_type": "code",
   "execution_count": 6,
   "metadata": {},
   "outputs": [
    {
     "data": {
      "text/plain": [
       "neural_choiceDDM{θneural_choice{θz{Float64}, Float64, Vector{Vector{Softplus{Float64}}}}}\n",
       "  θ: θneural_choice{θz{Float64}, Float64, Vector{Vector{Softplus{Float64}}}}\n",
       "  n: Int64 53\n",
       "  cross: Bool false\n"
      ]
     },
     "metadata": {},
     "output_type": "display_data"
    }
   ],
   "source": [
    "file = joinpath(joint_model_path, \"Fig2-PPC.mat\")\n",
    "f = string.(read(matopen(file), \"f\"))\n",
    "ncells = collect(read(matopen(file), \"ncells\"))\n",
    "nparams = read(matopen(file), \"nparams\")\n",
    "xf = read(matopen(file), \"ML_params\")\n",
    "borg = vcat(0,cumsum(ncells, dims=1))\n",
    "nparams = [nparams[i] for i in [borg[i-1]+1:borg[i] for i in 2:length(borg)]]\n",
    "f = [f[i] for i in [borg[i-1]+1:borg[i] for i in 2:length(borg)]];  \n",
    "x_joint[2] = xf;\n",
    "joint_model_PPC = neural_choiceDDM(θneural_choice(xf, f), n, cross)"
   ]
  },
  {
   "cell_type": "code",
   "execution_count": 7,
   "metadata": {},
   "outputs": [],
   "source": [
    "file = joinpath(choice_model_path, region*\".mat\")\n",
    "x_choice[2] = read(matopen(file), \"ML_params\");"
   ]
  },
  {
   "cell_type": "code",
   "execution_count": 8,
   "metadata": {},
   "outputs": [],
   "source": [
    "choice_inputs = map(x-> PulseInputDDM.choiceinputs(clicks=x.clicks, binned_clicks=x.binned_clicks, \n",
    "    dt=dt, centered=false), getfield.(vcat(data_PPC...), :input_data));\n",
    "choice_data_PPC = PulseInputDDM.choicedata.(choice_inputs, getfield.(vcat(data_PPC...), :choice));\n",
    "choice_model_PPC = choiceDDM(θ = Flatten.reconstruct(θchoice(), x_choice[2]), n=n, cross=cross);"
   ]
  },
  {
   "cell_type": "markdown",
   "metadata": {},
   "source": [
    "## ADS"
   ]
  },
  {
   "cell_type": "code",
   "execution_count": 9,
   "metadata": {},
   "outputs": [],
   "source": [
    "region, delay = \"ADS\", 6\n",
    "ratnum = 9:11\n",
    "rat = ratnames[ratnum]\n",
    "sessions = vcat(map(rat-> filter(x->occursin(rat,x), readdir(data_path)), rat)...);\n",
    "data_STR,μ_rnt, μ_t = load_neural_data(joinpath.(data_path, sessions), pcut=0.01, pad=20, delay=delay, dt=dt, filtSD=5,\n",
    "    do_RBF=true);"
   ]
  },
  {
   "cell_type": "code",
   "execution_count": 10,
   "metadata": {},
   "outputs": [
    {
     "data": {
      "text/plain": [
       "neural_choiceDDM{θneural_choice{θz{Float64}, Float64, Vector{Vector{Softplus{Float64}}}}}\n",
       "  θ: θneural_choice{θz{Float64}, Float64, Vector{Vector{Softplus{Float64}}}}\n",
       "  n: Int64 53\n",
       "  cross: Bool false\n"
      ]
     },
     "metadata": {},
     "output_type": "display_data"
    }
   ],
   "source": [
    "file = joinpath(joint_model_path, \"Fig2-ADS.mat\")\n",
    "f = string.(read(matopen(file), \"f\"))\n",
    "ncells = collect(read(matopen(file), \"ncells\"))\n",
    "nparams = read(matopen(file), \"nparams\")\n",
    "xf = read(matopen(file), \"ML_params\")\n",
    "borg = vcat(0,cumsum(ncells, dims=1))\n",
    "nparams = [nparams[i] for i in [borg[i-1]+1:borg[i] for i in 2:length(borg)]]\n",
    "f = [f[i] for i in [borg[i-1]+1:borg[i] for i in 2:length(borg)]];   \n",
    "x_joint[3] = xf;\n",
    "joint_model_STR = neural_choiceDDM(θneural_choice(xf, f), n, cross)"
   ]
  },
  {
   "cell_type": "code",
   "execution_count": 11,
   "metadata": {},
   "outputs": [],
   "source": [
    "file = joinpath(choice_model_path, region*\".mat\")\n",
    "x_choice[3] = read(matopen(file), \"ML_params\");"
   ]
  },
  {
   "cell_type": "code",
   "execution_count": 12,
   "metadata": {},
   "outputs": [],
   "source": [
    "choice_inputs = map(x-> PulseInputDDM.choiceinputs(clicks=x.clicks, binned_clicks=x.binned_clicks, \n",
    "    dt=dt, centered=false), getfield.(vcat(data_STR...), :input_data));\n",
    "choice_data_STR = PulseInputDDM.choicedata.(choice_inputs, getfield.(vcat(data_STR...), :choice));\n",
    "choice_model_STR = choiceDDM(θ = Flatten.reconstruct(θchoice(), x_choice[3]), n=n, cross=cross);"
   ]
  },
  {
   "cell_type": "markdown",
   "metadata": {},
   "source": [
    "## FOF"
   ]
  },
  {
   "cell_type": "code",
   "execution_count": 13,
   "metadata": {},
   "outputs": [],
   "source": [
    "region, delay = \"FOF\", 6\n",
    "ratnum = 1:5\n",
    "rat = ratnames[ratnum]\n",
    "sessions = vcat(map(rat-> filter(x->occursin(rat,x), readdir(data_path)), rat)...);\n",
    "data_FOF,μ_rnt, μ_t = load_neural_data(joinpath.(data_path, sessions), pcut=0.01, pad=20, delay=delay, dt=dt, filtSD=5,\n",
    "    do_RBF=true);"
   ]
  },
  {
   "cell_type": "code",
   "execution_count": 14,
   "metadata": {},
   "outputs": [
    {
     "data": {
      "text/plain": [
       "neural_choiceDDM{θneural_choice{θz{Float64}, Float64, Vector{Vector{Softplus{Float64}}}}}\n",
       "  θ: θneural_choice{θz{Float64}, Float64, Vector{Vector{Softplus{Float64}}}}\n",
       "  n: Int64 53\n",
       "  cross: Bool false\n"
      ]
     },
     "metadata": {},
     "output_type": "display_data"
    }
   ],
   "source": [
    "file = joinpath(joint_model_path, \"Fig2-FOF.mat\")\n",
    "f = string.(read(matopen(file), \"f\"))\n",
    "ncells = collect(read(matopen(file), \"ncells\"))\n",
    "nparams = read(matopen(file), \"nparams\")\n",
    "xf = read(matopen(file), \"ML_params\")\n",
    "borg = vcat(0,cumsum(ncells, dims=1))\n",
    "nparams = [nparams[i] for i in [borg[i-1]+1:borg[i] for i in 2:length(borg)]]\n",
    "f = [f[i] for i in [borg[i-1]+1:borg[i] for i in 2:length(borg)]];   \n",
    "x_joint[1] = xf;\n",
    "joint_model_FOF = neural_choiceDDM(θneural_choice(xf, f), n, cross)"
   ]
  },
  {
   "cell_type": "code",
   "execution_count": 15,
   "metadata": {},
   "outputs": [],
   "source": [
    "file = joinpath(choice_model_path, region*\".mat\")\n",
    "x_choice[1] = read(matopen(file), \"ML_params\");"
   ]
  },
  {
   "cell_type": "code",
   "execution_count": 16,
   "metadata": {},
   "outputs": [],
   "source": [
    "choice_inputs = map(x-> PulseInputDDM.choiceinputs(clicks=x.clicks, binned_clicks=x.binned_clicks, \n",
    "    dt=dt, centered=false), getfield.(vcat(data_FOF...), :input_data));\n",
    "choice_data_FOF = PulseInputDDM.choicedata.(choice_inputs, getfield.(vcat(data_FOF...), :choice));\n",
    "choice_model_FOF = choiceDDM(θ = Flatten.reconstruct(θchoice(), x_choice[1]), n=n, cross=cross);"
   ]
  },
  {
   "cell_type": "markdown",
   "metadata": {},
   "source": [
    "### Compute difference in L and R clicks"
   ]
  },
  {
   "cell_type": "code",
   "execution_count": 17,
   "metadata": {},
   "outputs": [],
   "source": [
    "output = map(x-> binLR(x.click_data.binned_clicks, x.click_data.clicks, x.click_data.dt), choice_data_FOF);\n",
    "L,R = getindex.(output,1), getindex.(output,2);\n",
    "ΔLR_FOF = cumsum.(-L .+ R);"
   ]
  },
  {
   "cell_type": "code",
   "execution_count": 18,
   "metadata": {},
   "outputs": [],
   "source": [
    "output = map(x-> binLR(x.click_data.binned_clicks, x.click_data.clicks, x.click_data.dt), choice_data_PPC);\n",
    "L,R = getindex.(output,1), getindex.(output,2);\n",
    "ΔLR_PPC = cumsum.(-L .+ R);"
   ]
  },
  {
   "cell_type": "code",
   "execution_count": 19,
   "metadata": {},
   "outputs": [],
   "source": [
    "output = map(x-> binLR(x.click_data.binned_clicks, x.click_data.clicks, x.click_data.dt), choice_data_STR);\n",
    "L,R = getindex.(output,1), getindex.(output,2);\n",
    "ΔLR_STR = cumsum.(-L .+ R);"
   ]
  },
  {
   "cell_type": "markdown",
   "metadata": {},
   "source": [
    "## Forward pass and posteriors"
   ]
  },
  {
   "cell_type": "code",
   "execution_count": 20,
   "metadata": {},
   "outputs": [],
   "source": [
    "import PulseInputDDM: forward, posterior"
   ]
  },
  {
   "cell_type": "code",
   "execution_count": 21,
   "metadata": {},
   "outputs": [],
   "source": [
    "output = forward(joint_model_FOF, data_FOF);\n",
    "output = vcat(output...);\n",
    "joint_a_FOF = map(x-> x[1], output);\n",
    "xc_joint_FOF = output[1][2];"
   ]
  },
  {
   "cell_type": "code",
   "execution_count": 22,
   "metadata": {},
   "outputs": [],
   "source": [
    "output = forward(choice_model_FOF, choice_data_FOF);\n",
    "choice_a_FOF = map(x-> x[1], output);\n",
    "xc_choice_FOF = output[1][2];"
   ]
  },
  {
   "cell_type": "code",
   "execution_count": 23,
   "metadata": {},
   "outputs": [],
   "source": [
    "output = forward(joint_model_PPC, data_PPC);\n",
    "output = vcat(output...);\n",
    "joint_a_PPC = map(x-> x[1], output);\n",
    "xc_joint_PPC = output[1][2];"
   ]
  },
  {
   "cell_type": "code",
   "execution_count": 24,
   "metadata": {},
   "outputs": [],
   "source": [
    "output = forward(choice_model_PPC, choice_data_PPC);\n",
    "choice_a_PPC = map(x-> x[1], output);\n",
    "xc_choice_PPC = output[1][2];"
   ]
  },
  {
   "cell_type": "code",
   "execution_count": 25,
   "metadata": {},
   "outputs": [],
   "source": [
    "output = forward(joint_model_STR, data_STR);\n",
    "output = vcat(output...);\n",
    "joint_a_STR = map(x-> x[1], output);\n",
    "xc_joint_STR = output[1][2];"
   ]
  },
  {
   "cell_type": "code",
   "execution_count": 26,
   "metadata": {},
   "outputs": [],
   "source": [
    "output = forward(choice_model_STR, choice_data_STR);\n",
    "choice_a_STR = map(x-> x[1], output);\n",
    "xc_choice_STR = output[1][2];"
   ]
  },
  {
   "cell_type": "code",
   "execution_count": 27,
   "metadata": {},
   "outputs": [],
   "source": [
    "output = posterior(joint_model_FOF, data_FOF);\n",
    "output = vcat(output...);\n",
    "joint_post_FOF = map(x-> x[1] .* x[2], output);"
   ]
  },
  {
   "cell_type": "code",
   "execution_count": 28,
   "metadata": {},
   "outputs": [],
   "source": [
    "output = posterior(joint_model_PPC, data_PPC);\n",
    "output = vcat(output...);\n",
    "joint_post_PPC = map(x-> x[1] .* x[2], output);"
   ]
  },
  {
   "cell_type": "code",
   "execution_count": 29,
   "metadata": {},
   "outputs": [],
   "source": [
    "output = posterior(joint_model_STR, data_STR);\n",
    "output = vcat(output...);\n",
    "joint_post_STR = map(x-> x[1] .* x[2], output);"
   ]
  },
  {
   "cell_type": "code",
   "execution_count": 30,
   "metadata": {},
   "outputs": [],
   "source": [
    "output = posterior(choice_model_FOF, choice_data_FOF);\n",
    "choice_post_FOF = map(x-> x[1] .* x[2], output);"
   ]
  },
  {
   "cell_type": "code",
   "execution_count": 31,
   "metadata": {},
   "outputs": [],
   "source": [
    "output = posterior(choice_model_STR, choice_data_STR);\n",
    "choice_post_STR = map(x-> x[1] .* x[2], output);"
   ]
  },
  {
   "cell_type": "code",
   "execution_count": 32,
   "metadata": {},
   "outputs": [],
   "source": [
    "output = posterior(choice_model_PPC, choice_data_PPC);\n",
    "choice_post_PPC = map(x-> x[1] .* x[2], output);"
   ]
  },
  {
   "cell_type": "code",
   "execution_count": 33,
   "metadata": {},
   "outputs": [],
   "source": [
    "neural_model_FOF = neuralDDM(θ=θneural(θz=joint_model_FOF.θ.θz, θy=joint_model_FOF.θ.θy, f=joint_model_FOF.θ.f),\n",
    "    n=joint_model_FOF.n, cross=joint_model_FOF.cross);\n",
    "\n",
    "output = posterior(neural_model_FOF, data_FOF);\n",
    "output = vcat(output...);\n",
    "neural_post_FOF = map(x-> x[1] .* x[2], output);"
   ]
  },
  {
   "cell_type": "code",
   "execution_count": 34,
   "metadata": {},
   "outputs": [],
   "source": [
    "neural_model_PPC = neuralDDM(θ=θneural(θz=joint_model_PPC.θ.θz, θy=joint_model_PPC.θ.θy, f=joint_model_PPC.θ.f),\n",
    "    n=joint_model_PPC.n, cross=joint_model_PPC.cross);\n",
    "\n",
    "output = posterior(neural_model_PPC, data_PPC);\n",
    "output = vcat(output...);\n",
    "neural_post_PPC = map(x-> x[1] .* x[2], output);"
   ]
  },
  {
   "cell_type": "code",
   "execution_count": 35,
   "metadata": {},
   "outputs": [],
   "source": [
    "neural_model_STR = neuralDDM(θ=θneural(θz=joint_model_STR.θ.θz, θy=joint_model_STR.θ.θy, f=joint_model_STR.θ.f),\n",
    "    n=joint_model_STR.n, cross=joint_model_STR.cross);\n",
    "\n",
    "output = posterior(neural_model_STR, data_STR);\n",
    "output = vcat(output...);\n",
    "neural_post_STR = map(x-> x[1] .* x[2], output);"
   ]
  },
  {
   "cell_type": "markdown",
   "metadata": {},
   "source": [
    "#### Expected values"
   ]
  },
  {
   "cell_type": "code",
   "execution_count": 36,
   "metadata": {},
   "outputs": [],
   "source": [
    "exp_PPC_choice = map(x-> x' * xc_choice_PPC, choice_post_PPC);\n",
    "exp_PPC_joint = map(x-> x[:,33:end-8]' * xc_joint_PPC, joint_post_PPC);\n",
    "exp_FOF_choice = map(x-> x' * xc_choice_FOF, choice_post_FOF);\n",
    "exp_FOF_joint = map(x-> x[:,27:end-14]' * xc_joint_FOF, joint_post_FOF);\n",
    "exp_STR_choice = map(x-> x' * xc_choice_STR, choice_post_STR);\n",
    "exp_STR_joint = map(x-> x[:,27:end-14]' * xc_joint_STR, joint_post_STR);\n",
    "\n",
    "exp_PPC_neural = map(x-> x[:,33:end-8]' * xc_joint_PPC, neural_post_PPC);\n",
    "exp_FOF_neural = map(x-> x[:,27:end-14]' * xc_joint_FOF, neural_post_FOF);\n",
    "exp_STR_neural = map(x-> x[:,27:end-14]' * xc_joint_STR, neural_post_STR);\n",
    "\n",
    "exp_PPC_choice_for = map(x-> x' * xc_choice_PPC, choice_a_PPC);\n",
    "exp_PPC_joint_for = map(x-> x[:,33:end-8]' * xc_joint_PPC, joint_a_PPC);\n",
    "exp_FOF_choice_for = map(x-> x' * xc_choice_FOF, choice_a_FOF);\n",
    "exp_FOF_joint_for = map(x-> x[:,27:end-14]' * xc_joint_FOF, joint_a_FOF);\n",
    "exp_STR_choice_for = map(x-> x' * xc_choice_STR, choice_a_STR);\n",
    "exp_STR_joint_for = map(x-> x[:,27:end-14]' * xc_joint_STR, joint_a_STR);"
   ]
  },
  {
   "cell_type": "code",
   "execution_count": 37,
   "metadata": {},
   "outputs": [
    {
     "data": {
      "text/plain": [
       "3-element Vector{String}:\n",
       " \"red\"\n",
       " \"#1822A0\"\n",
       " \"#A01892\""
      ]
     },
     "metadata": {},
     "output_type": "display_data"
    }
   ],
   "source": [
    "using Colors, PyPlot\n",
    "mycolors = [\"red\", \"#1822A0\", \"#A01892\"]"
   ]
  },
  {
   "cell_type": "code",
   "execution_count": 39,
   "metadata": {},
   "outputs": [],
   "source": [
    "idxs_FOF = sortperm(vcat(choice_likelihood(joint_model_FOF, data_FOF)...) .- vcat(PulseInputDDM.likelihood(choice_model_FOF, choice_data_FOF)...));\n",
    "idxs_PPC = sortperm(vcat(choice_likelihood(joint_model_PPC, data_PPC)...) .- vcat(PulseInputDDM.likelihood(choice_model_PPC, choice_data_PPC)...));\n",
    "idxs_STR = sortperm(vcat(choice_likelihood(joint_model_STR, data_STR)...) .- vcat(PulseInputDDM.likelihood(choice_model_STR, choice_data_STR)...));"
   ]
  },
  {
   "cell_type": "code",
   "execution_count": 40,
   "metadata": {},
   "outputs": [
    {
     "data": {
      "image/png": "[encoded data removed]",
      "text/plain": [
       "Figure(PyObject <Figure size 1500x375 with 3 Axes>)"
      ]
     },
     "metadata": {},
     "output_type": "display_data"
    }
   ],
   "source": [
    "fig, ax = subplots(1, 3, figsize=(5, 1.25), dpi=300, frameon=true)\n",
    "\n",
    "fs = 6\n",
    "rc(\"xtick\", labelsize=fs)\n",
    "rc(\"ytick\", labelsize=fs)\n",
    "\n",
    "tri = idxs_FOF[end-3]\n",
    "T = length(exp_FOF_joint_for[tri])\n",
    "\n",
    "splt = 1\n",
    "ax[splt].plot(range(dt, stop=dt*T, length=T), \n",
    "    (exp_FOF_choice_for[tri]), color=\"black\", label=\"choice\")\n",
    "ax[splt].plot(range(dt, stop=dt*T, length=T), \n",
    "    ΔLR_FOF[tri], color=[0.6, 0.6, 0.6], label=\"ΔLR\")\n",
    "ax[splt].plot(range(dt, stop=dt*T, length=T), \n",
    "    (exp_FOF_neural[tri]), color=mycolors[1], label=\"joint\")\n",
    "ax[splt].fill_between(range(dt, stop=dt*T, length=T),\n",
    "    35 * ones(T), zeros(T),\n",
    "    alpha=0.2, color=mycolors[1]) \n",
    "\n",
    "ax[splt].xaxis.set_ticks_position(\"bottom\")\n",
    "ax[splt].xaxis.set_ticks_position(\"bottom\")\n",
    "ax[splt].spines[\"right\"].set_visible(false)\n",
    "ax[splt].spines[\"top\"].set_visible(false)\n",
    "ax[splt].spines[\"bottom\"].set_linewidth(0.5)\n",
    "ax[splt].spines[\"left\"].set_linewidth(0.5)\n",
    "ax[splt].tick_params(width=0.5, length=2)\n",
    "ax[splt].set_yticks(range(-30, stop=30, length=5))\n",
    "ax[splt].set_ylim(-35, 35)\n",
    "ax[splt].set_xticks(range(0., stop=0.75, length=4))\n",
    "ax[splt].set_xlim(0, 0.8)\n",
    "\n",
    "tri = idxs_PPC[end-1]\n",
    "T = length(exp_PPC_joint_for[tri])\n",
    "splt = 2\n",
    "ax[splt].plot(range(dt, stop=dt*T, length=T), \n",
    "    (exp_PPC_choice_for[tri]), color=\"black\", label=\"choice\")\n",
    "ax[splt].plot(range(dt, stop=dt*T, length=T), \n",
    "    ΔLR_PPC[tri], color=[0.6, 0.6, 0.6], label=\"ΔLR\")\n",
    "ax[splt].plot(range(dt, stop=dt*T, length=T), \n",
    "    (exp_PPC_neural[tri]), color=mycolors[2], label=\"joint\")\n",
    "ax[splt].fill_between(range(dt, stop=dt*T, length=T),\n",
    "    -35 * ones(T), zeros(T),\n",
    "    alpha=0.2, color=mycolors[2]) \n",
    "\n",
    "ax[splt].xaxis.set_ticks_position(\"bottom\")\n",
    "ax[splt].xaxis.set_ticks_position(\"bottom\")\n",
    "ax[splt].spines[\"right\"].set_visible(false)\n",
    "ax[splt].spines[\"top\"].set_visible(false)\n",
    "ax[splt].spines[\"bottom\"].set_linewidth(0.5)\n",
    "ax[splt].spines[\"left\"].set_linewidth(0.5)\n",
    "ax[splt].tick_params(width=0.5, length=2)\n",
    "ax[splt].set_yticks(range(-30, stop=30, length=5))\n",
    "ax[splt].set_ylim(-35, 35)\n",
    "ax[splt].set_xticks(range(0., stop=0.6, length=4))\n",
    "ax[splt].set_xlim(0, 0.67)\n",
    "\n",
    "tri = idxs_STR[end]\n",
    "T = length(exp_STR_joint_for[tri])\n",
    "splt = 3\n",
    "ax[splt].plot(range(dt, stop=dt*T, length=T), \n",
    "    (exp_STR_choice_for[tri]), color=\"black\", label=\"choice\")\n",
    "ax[splt].plot(range(dt, stop=dt*T, length=T), \n",
    "    ΔLR_STR[tri], color=[0.6, 0.6, 0.6], label=\"ΔLR\")\n",
    "ax[splt].plot(range(dt, stop=dt*T, length=T), \n",
    "    (exp_STR_neural[tri]), color=mycolors[3], label=\"joint\")\n",
    "ax[splt].fill_between(range(dt, stop=dt*T, length=T),\n",
    "    -35 * ones(T), zeros(T),\n",
    "    alpha=0.2, color=mycolors[3]) \n",
    "\n",
    "ax[splt].xaxis.set_ticks_position(\"bottom\")\n",
    "ax[splt].xaxis.set_ticks_position(\"bottom\")\n",
    "ax[splt].spines[\"right\"].set_visible(false)\n",
    "ax[splt].spines[\"top\"].set_visible(false)\n",
    "ax[splt].spines[\"bottom\"].set_linewidth(0.5)\n",
    "ax[splt].spines[\"left\"].set_linewidth(0.5)\n",
    "ax[splt].set_yticks(range(-30, stop=30, length=5))\n",
    "ax[splt].set_ylim(-35, 35)\n",
    "ax[splt].tick_params(width=0.5, length=2)\n",
    "ax[splt].set_xticks(range(0., stop=0.8, length=5))\n",
    "ax[splt].set_xlim(0, 0.95)\n",
    "\n",
    "tight_layout()\n",
    "display(gcf())\n",
    "close(gcf())\n",
    "#PyPlot.savefig(joinpath(abspath(joinpath(pwd(), \"..\")), \"figs/\")*\"Fig6B.pdf\")"
   ]
  }
 ],
 "metadata": {
  "kernelspec": {
   "display_name": "Julia 1.10.4",
   "language": "julia",
   "name": "julia-1.10"
  },
  "language_info": {
   "file_extension": ".jl",
   "mimetype": "application/julia",
   "name": "julia",
   "version": "1.10.4"
  }
 },
 "nbformat": 4,
 "nbformat_minor": 2
}
